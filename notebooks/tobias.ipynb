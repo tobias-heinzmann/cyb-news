{
 "cells": [
  {
   "cell_type": "code",
   "execution_count": 1,
   "id": "bca0d9b8",
   "metadata": {},
   "outputs": [],
   "source": [
    "import string\n",
    "from collections import Counter\n",
    "import pandas as pd\n",
    "import numpy as np\n",
    "from matplotlib.pylab import plt\n",
    "\n",
    "from nltk import word_tokenize\n",
    "from nltk.stem import WordNetLemmatizer\n",
    "from nltk.corpus import stopwords\n",
    "\n",
    "from sklearn.ensemble import RandomForestClassifier\n",
    "from sklearn.feature_extraction.text import CountVectorizer, TfidfVectorizer\n",
    "from sklearn.metrics import accuracy_score\n",
    "from sklearn.model_selection import GridSearchCV, cross_val_score\n",
    "from sklearn.naive_bayes import MultinomialNB\n",
    "from sklearn.pipeline import Pipeline, make_pipeline\n",
    "from sklearn.svm import SVC\n",
    "\n",
    "from cybnews.data import get_data"
   ]
  },
  {
   "cell_type": "code",
   "execution_count": 2,
   "id": "ddaa1a72",
   "metadata": {},
   "outputs": [],
   "source": [
    "# 0 = fake\n",
    "# 1 = real\n",
    "\n",
    "data = get_data('/home/tober/devel/lewagon/project/cyb-news/data/WELFake_Dataset.csv')"
   ]
  },
  {
   "cell_type": "code",
   "execution_count": 3,
   "id": "ce3fac2b",
   "metadata": {},
   "outputs": [
    {
     "data": {
      "text/html": [
       "<div>\n",
       "<style scoped>\n",
       "    .dataframe tbody tr th:only-of-type {\n",
       "        vertical-align: middle;\n",
       "    }\n",
       "\n",
       "    .dataframe tbody tr th {\n",
       "        vertical-align: top;\n",
       "    }\n",
       "\n",
       "    .dataframe thead th {\n",
       "        text-align: right;\n",
       "    }\n",
       "</style>\n",
       "<table border=\"1\" class=\"dataframe\">\n",
       "  <thead>\n",
       "    <tr style=\"text-align: right;\">\n",
       "      <th></th>\n",
       "      <th>Unnamed: 0</th>\n",
       "      <th>title</th>\n",
       "      <th>text</th>\n",
       "      <th>label</th>\n",
       "    </tr>\n",
       "  </thead>\n",
       "  <tbody>\n",
       "    <tr>\n",
       "      <th>0</th>\n",
       "      <td>0</td>\n",
       "      <td>LAW ENFORCEMENT ON HIGH ALERT Following Threat...</td>\n",
       "      <td>No comment is expected from Barack Obama Membe...</td>\n",
       "      <td>1</td>\n",
       "    </tr>\n",
       "    <tr>\n",
       "      <th>1</th>\n",
       "      <td>1</td>\n",
       "      <td>NaN</td>\n",
       "      <td>Did they post their votes for Hillary already?</td>\n",
       "      <td>1</td>\n",
       "    </tr>\n",
       "    <tr>\n",
       "      <th>2</th>\n",
       "      <td>2</td>\n",
       "      <td>UNBELIEVABLE! OBAMA’S ATTORNEY GENERAL SAYS MO...</td>\n",
       "      <td>Now, most of the demonstrators gathered last ...</td>\n",
       "      <td>1</td>\n",
       "    </tr>\n",
       "    <tr>\n",
       "      <th>3</th>\n",
       "      <td>3</td>\n",
       "      <td>Bobby Jindal, raised Hindu, uses story of Chri...</td>\n",
       "      <td>A dozen politically active pastors came here f...</td>\n",
       "      <td>0</td>\n",
       "    </tr>\n",
       "    <tr>\n",
       "      <th>4</th>\n",
       "      <td>4</td>\n",
       "      <td>SATAN 2: Russia unvelis an image of its terrif...</td>\n",
       "      <td>The RS-28 Sarmat missile, dubbed Satan 2, will...</td>\n",
       "      <td>1</td>\n",
       "    </tr>\n",
       "  </tbody>\n",
       "</table>\n",
       "</div>"
      ],
      "text/plain": [
       "   Unnamed: 0                                              title  \\\n",
       "0           0  LAW ENFORCEMENT ON HIGH ALERT Following Threat...   \n",
       "1           1                                                NaN   \n",
       "2           2  UNBELIEVABLE! OBAMA’S ATTORNEY GENERAL SAYS MO...   \n",
       "3           3  Bobby Jindal, raised Hindu, uses story of Chri...   \n",
       "4           4  SATAN 2: Russia unvelis an image of its terrif...   \n",
       "\n",
       "                                                text  label  \n",
       "0  No comment is expected from Barack Obama Membe...      1  \n",
       "1     Did they post their votes for Hillary already?      1  \n",
       "2   Now, most of the demonstrators gathered last ...      1  \n",
       "3  A dozen politically active pastors came here f...      0  \n",
       "4  The RS-28 Sarmat missile, dubbed Satan 2, will...      1  "
      ]
     },
     "execution_count": 3,
     "metadata": {},
     "output_type": "execute_result"
    }
   ],
   "source": [
    "data.head()"
   ]
  },
  {
   "cell_type": "code",
   "execution_count": 7,
   "id": "f995b400",
   "metadata": {},
   "outputs": [
    {
     "name": "stdout",
     "output_type": "stream",
     "text": [
      "Unnamed: 0                                                    3\n",
      "title         Bobby Jindal, raised Hindu, uses story of Chri...\n",
      "text          A dozen politically active pastors came here f...\n",
      "label                                                         0\n",
      "Name: 3, dtype: object\n"
     ]
    }
   ],
   "source": [
    "print(data.iloc[3])"
   ]
  },
  {
   "cell_type": "markdown",
   "id": "53900985",
   "metadata": {},
   "source": []
  },
  {
   "cell_type": "code",
   "execution_count": 120,
   "id": "00ddd9e8",
   "metadata": {},
   "outputs": [
    {
     "data": {
      "text/plain": [
       "<bound method DataFrame.info of        Unnamed: 0                                              title  \\\n",
       "0               0  LAW ENFORCEMENT ON HIGH ALERT Following Threat...   \n",
       "1               1                                                NaN   \n",
       "2               2  UNBELIEVABLE! OBAMA’S ATTORNEY GENERAL SAYS MO...   \n",
       "3               3  Bobby Jindal, raised Hindu, uses story of Chri...   \n",
       "4               4  SATAN 2: Russia unvelis an image of its terrif...   \n",
       "...           ...                                                ...   \n",
       "72129       72129  Russians steal research on Trump in hack of U....   \n",
       "72130       72130   WATCH: Giuliani Demands That Democrats Apolog...   \n",
       "72131       72131  Migrants Refuse To Leave Train At Refugee Camp...   \n",
       "72132       72132  Trump tussle gives unpopular Mexican leader mu...   \n",
       "72133       72133  Goldman Sachs Endorses Hillary Clinton For Pre...   \n",
       "\n",
       "                                                    text  label  \n",
       "0      No comment is expected from Barack Obama Membe...      1  \n",
       "1         Did they post their votes for Hillary already?      1  \n",
       "2       Now, most of the demonstrators gathered last ...      1  \n",
       "3      A dozen politically active pastors came here f...      0  \n",
       "4      The RS-28 Sarmat missile, dubbed Satan 2, will...      1  \n",
       "...                                                  ...    ...  \n",
       "72129  WASHINGTON (Reuters) - Hackers believed to be ...      0  \n",
       "72130  You know, because in fantasyland Republicans n...      1  \n",
       "72131  Migrants Refuse To Leave Train At Refugee Camp...      0  \n",
       "72132  MEXICO CITY (Reuters) - Donald Trump’s combati...      0  \n",
       "72133  Goldman Sachs Endorses Hillary Clinton For Pre...      1  \n",
       "\n",
       "[72134 rows x 4 columns]>"
      ]
     },
     "execution_count": 120,
     "metadata": {},
     "output_type": "execute_result"
    }
   ],
   "source": [
    "data.info"
   ]
  },
  {
   "cell_type": "code",
   "execution_count": 121,
   "id": "a736cef5",
   "metadata": {},
   "outputs": [
    {
     "data": {
      "text/html": [
       "<div>\n",
       "<style scoped>\n",
       "    .dataframe tbody tr th:only-of-type {\n",
       "        vertical-align: middle;\n",
       "    }\n",
       "\n",
       "    .dataframe tbody tr th {\n",
       "        vertical-align: top;\n",
       "    }\n",
       "\n",
       "    .dataframe thead th {\n",
       "        text-align: right;\n",
       "    }\n",
       "</style>\n",
       "<table border=\"1\" class=\"dataframe\">\n",
       "  <thead>\n",
       "    <tr style=\"text-align: right;\">\n",
       "      <th></th>\n",
       "      <th>Unnamed: 0</th>\n",
       "      <th>label</th>\n",
       "    </tr>\n",
       "  </thead>\n",
       "  <tbody>\n",
       "    <tr>\n",
       "      <th>count</th>\n",
       "      <td>72134.000000</td>\n",
       "      <td>72134.000000</td>\n",
       "    </tr>\n",
       "    <tr>\n",
       "      <th>mean</th>\n",
       "      <td>36066.500000</td>\n",
       "      <td>0.514404</td>\n",
       "    </tr>\n",
       "    <tr>\n",
       "      <th>std</th>\n",
       "      <td>20823.436496</td>\n",
       "      <td>0.499796</td>\n",
       "    </tr>\n",
       "    <tr>\n",
       "      <th>min</th>\n",
       "      <td>0.000000</td>\n",
       "      <td>0.000000</td>\n",
       "    </tr>\n",
       "    <tr>\n",
       "      <th>25%</th>\n",
       "      <td>18033.250000</td>\n",
       "      <td>0.000000</td>\n",
       "    </tr>\n",
       "    <tr>\n",
       "      <th>50%</th>\n",
       "      <td>36066.500000</td>\n",
       "      <td>1.000000</td>\n",
       "    </tr>\n",
       "    <tr>\n",
       "      <th>75%</th>\n",
       "      <td>54099.750000</td>\n",
       "      <td>1.000000</td>\n",
       "    </tr>\n",
       "    <tr>\n",
       "      <th>max</th>\n",
       "      <td>72133.000000</td>\n",
       "      <td>1.000000</td>\n",
       "    </tr>\n",
       "  </tbody>\n",
       "</table>\n",
       "</div>"
      ],
      "text/plain": [
       "         Unnamed: 0         label\n",
       "count  72134.000000  72134.000000\n",
       "mean   36066.500000      0.514404\n",
       "std    20823.436496      0.499796\n",
       "min        0.000000      0.000000\n",
       "25%    18033.250000      0.000000\n",
       "50%    36066.500000      1.000000\n",
       "75%    54099.750000      1.000000\n",
       "max    72133.000000      1.000000"
      ]
     },
     "execution_count": 121,
     "metadata": {},
     "output_type": "execute_result"
    }
   ],
   "source": [
    "data.describe()"
   ]
  },
  {
   "cell_type": "code",
   "execution_count": 122,
   "id": "e5f66cb6",
   "metadata": {},
   "outputs": [
    {
     "name": "stdout",
     "output_type": "stream",
     "text": [
      "label\n",
      "1    0.514404\n",
      "0    0.485596\n",
      "Name: proportion, dtype: float64\n",
      "\n",
      "label\n",
      "1    37106\n",
      "0    35028\n",
      "Name: count, dtype: int64\n"
     ]
    }
   ],
   "source": [
    "print(data.label.value_counts(normalize=True))\n",
    "print()\n",
    "print(data.label.value_counts())"
   ]
  },
  {
   "cell_type": "code",
   "execution_count": 123,
   "id": "a472be7b",
   "metadata": {},
   "outputs": [
    {
     "data": {
      "text/plain": [
       "Unnamed: 0    False\n",
       "title          True\n",
       "text           True\n",
       "label         False\n",
       "dtype: bool"
      ]
     },
     "execution_count": 123,
     "metadata": {},
     "output_type": "execute_result"
    }
   ],
   "source": [
    "data.isnull().any()"
   ]
  },
  {
   "cell_type": "code",
   "execution_count": 124,
   "id": "78ee9836",
   "metadata": {},
   "outputs": [
    {
     "data": {
      "text/plain": [
       "Unnamed: 0      0\n",
       "title         558\n",
       "text           39\n",
       "label           0\n",
       "dtype: int64"
      ]
     },
     "execution_count": 124,
     "metadata": {},
     "output_type": "execute_result"
    }
   ],
   "source": [
    "data.isnull().sum()"
   ]
  },
  {
   "cell_type": "code",
   "execution_count": 125,
   "id": "5ae99bf1",
   "metadata": {},
   "outputs": [],
   "source": [
    "data = data.fillna('')"
   ]
  },
  {
   "cell_type": "code",
   "execution_count": 126,
   "id": "da792fca",
   "metadata": {},
   "outputs": [],
   "source": [
    "data[\"all_text\"] = data[\"title\"] + \" \" +  data[\"text\"]"
   ]
  },
  {
   "cell_type": "code",
   "execution_count": 127,
   "id": "60db3be0",
   "metadata": {},
   "outputs": [
    {
     "data": {
      "text/html": [
       "<div>\n",
       "<style scoped>\n",
       "    .dataframe tbody tr th:only-of-type {\n",
       "        vertical-align: middle;\n",
       "    }\n",
       "\n",
       "    .dataframe tbody tr th {\n",
       "        vertical-align: top;\n",
       "    }\n",
       "\n",
       "    .dataframe thead th {\n",
       "        text-align: right;\n",
       "    }\n",
       "</style>\n",
       "<table border=\"1\" class=\"dataframe\">\n",
       "  <thead>\n",
       "    <tr style=\"text-align: right;\">\n",
       "      <th></th>\n",
       "      <th>Unnamed: 0</th>\n",
       "      <th>title</th>\n",
       "      <th>text</th>\n",
       "      <th>label</th>\n",
       "      <th>all_text</th>\n",
       "      <th>text_length</th>\n",
       "    </tr>\n",
       "  </thead>\n",
       "  <tbody>\n",
       "    <tr>\n",
       "      <th>0</th>\n",
       "      <td>0</td>\n",
       "      <td>LAW ENFORCEMENT ON HIGH ALERT Following Threat...</td>\n",
       "      <td>No comment is expected from Barack Obama Membe...</td>\n",
       "      <td>1</td>\n",
       "      <td>LAW ENFORCEMENT ON HIGH ALERT Following Threat...</td>\n",
       "      <td>5180</td>\n",
       "    </tr>\n",
       "    <tr>\n",
       "      <th>1</th>\n",
       "      <td>1</td>\n",
       "      <td></td>\n",
       "      <td>Did they post their votes for Hillary already?</td>\n",
       "      <td>1</td>\n",
       "      <td>Did they post their votes for Hillary already?</td>\n",
       "      <td>47</td>\n",
       "    </tr>\n",
       "    <tr>\n",
       "      <th>2</th>\n",
       "      <td>2</td>\n",
       "      <td>UNBELIEVABLE! OBAMA’S ATTORNEY GENERAL SAYS MO...</td>\n",
       "      <td>Now, most of the demonstrators gathered last ...</td>\n",
       "      <td>1</td>\n",
       "      <td>UNBELIEVABLE! OBAMA’S ATTORNEY GENERAL SAYS MO...</td>\n",
       "      <td>354</td>\n",
       "    </tr>\n",
       "    <tr>\n",
       "      <th>3</th>\n",
       "      <td>3</td>\n",
       "      <td>Bobby Jindal, raised Hindu, uses story of Chri...</td>\n",
       "      <td>A dozen politically active pastors came here f...</td>\n",
       "      <td>0</td>\n",
       "      <td>Bobby Jindal, raised Hindu, uses story of Chri...</td>\n",
       "      <td>8116</td>\n",
       "    </tr>\n",
       "    <tr>\n",
       "      <th>4</th>\n",
       "      <td>4</td>\n",
       "      <td>SATAN 2: Russia unvelis an image of its terrif...</td>\n",
       "      <td>The RS-28 Sarmat missile, dubbed Satan 2, will...</td>\n",
       "      <td>1</td>\n",
       "      <td>SATAN 2: Russia unvelis an image of its terrif...</td>\n",
       "      <td>2012</td>\n",
       "    </tr>\n",
       "  </tbody>\n",
       "</table>\n",
       "</div>"
      ],
      "text/plain": [
       "   Unnamed: 0                                              title  \\\n",
       "0           0  LAW ENFORCEMENT ON HIGH ALERT Following Threat...   \n",
       "1           1                                                      \n",
       "2           2  UNBELIEVABLE! OBAMA’S ATTORNEY GENERAL SAYS MO...   \n",
       "3           3  Bobby Jindal, raised Hindu, uses story of Chri...   \n",
       "4           4  SATAN 2: Russia unvelis an image of its terrif...   \n",
       "\n",
       "                                                text  label  \\\n",
       "0  No comment is expected from Barack Obama Membe...      1   \n",
       "1     Did they post their votes for Hillary already?      1   \n",
       "2   Now, most of the demonstrators gathered last ...      1   \n",
       "3  A dozen politically active pastors came here f...      0   \n",
       "4  The RS-28 Sarmat missile, dubbed Satan 2, will...      1   \n",
       "\n",
       "                                            all_text  text_length  \n",
       "0  LAW ENFORCEMENT ON HIGH ALERT Following Threat...         5180  \n",
       "1     Did they post their votes for Hillary already?           47  \n",
       "2  UNBELIEVABLE! OBAMA’S ATTORNEY GENERAL SAYS MO...          354  \n",
       "3  Bobby Jindal, raised Hindu, uses story of Chri...         8116  \n",
       "4  SATAN 2: Russia unvelis an image of its terrif...         2012  "
      ]
     },
     "execution_count": 127,
     "metadata": {},
     "output_type": "execute_result"
    }
   ],
   "source": [
    "data['text_length'] = data['all_text'].apply(len)\n",
    "data.head()"
   ]
  },
  {
   "cell_type": "code",
   "execution_count": 128,
   "id": "89670133",
   "metadata": {},
   "outputs": [
    {
     "data": {
      "text/plain": [
       "label\n",
       "0    3565.107286\n",
       "1    3139.031208\n",
       "Name: text_length, dtype: float64"
      ]
     },
     "execution_count": 128,
     "metadata": {},
     "output_type": "execute_result"
    }
   ],
   "source": [
    "data.groupby('label')['text_length'].mean()"
   ]
  },
  {
   "cell_type": "code",
   "execution_count": 129,
   "id": "b5daae2a",
   "metadata": {},
   "outputs": [
    {
     "data": {
      "image/png": "[encoded data removed]",
      "text/plain": [
       "<Figure size 1000x500 with 2 Axes>"
      ]
     },
     "metadata": {},
     "output_type": "display_data"
    }
   ],
   "source": [
    "bin = np.linspace(0, 7000, 30)\n",
    "\n",
    "_, (ax1, ax2) = plt.subplots(1, 2, figsize=(10, 5))\n",
    "\n",
    "ax1.hist(data[data[\"label\"]== 1][\"text_length\"], bins=bin)\n",
    "ax1.set_title('distribution length real')\n",
    "ax1.set_xlabel('length')\n",
    "ax1.set_ylabel('count')\n",
    "\n",
    "ax2.hist(data[data[\"label\"]== 0][\"text_length\"], bins=bin)\n",
    "ax2.set_title('distribution length fake')\n",
    "ax2.set_xlabel('length')\n",
    "ax2.set_ylabel('count')\n",
    "plt.show();\n"
   ]
  },
  {
   "cell_type": "code",
   "execution_count": 130,
   "id": "98666148",
   "metadata": {},
   "outputs": [
    {
     "data": {
      "text/html": [
       "<div>\n",
       "<style scoped>\n",
       "    .dataframe tbody tr th:only-of-type {\n",
       "        vertical-align: middle;\n",
       "    }\n",
       "\n",
       "    .dataframe tbody tr th {\n",
       "        vertical-align: top;\n",
       "    }\n",
       "\n",
       "    .dataframe thead th {\n",
       "        text-align: right;\n",
       "    }\n",
       "</style>\n",
       "<table border=\"1\" class=\"dataframe\">\n",
       "  <thead>\n",
       "    <tr style=\"text-align: right;\">\n",
       "      <th></th>\n",
       "      <th>Unnamed: 0</th>\n",
       "      <th>title</th>\n",
       "      <th>text</th>\n",
       "      <th>label</th>\n",
       "      <th>all_text</th>\n",
       "      <th>text_length</th>\n",
       "    </tr>\n",
       "  </thead>\n",
       "  <tbody>\n",
       "    <tr>\n",
       "      <th>0</th>\n",
       "      <td>0</td>\n",
       "      <td>LAW ENFORCEMENT ON HIGH ALERT Following Threat...</td>\n",
       "      <td>No comment is expected from Barack Obama Membe...</td>\n",
       "      <td>1</td>\n",
       "      <td>LAW ENFORCEMENT ON HIGH ALERT Following Threat...</td>\n",
       "      <td>5180</td>\n",
       "    </tr>\n",
       "    <tr>\n",
       "      <th>1</th>\n",
       "      <td>1</td>\n",
       "      <td></td>\n",
       "      <td>Did they post their votes for Hillary already?</td>\n",
       "      <td>1</td>\n",
       "      <td>Did they post their votes for Hillary already?</td>\n",
       "      <td>47</td>\n",
       "    </tr>\n",
       "    <tr>\n",
       "      <th>2</th>\n",
       "      <td>2</td>\n",
       "      <td>UNBELIEVABLE! OBAMA’S ATTORNEY GENERAL SAYS MO...</td>\n",
       "      <td>Now, most of the demonstrators gathered last ...</td>\n",
       "      <td>1</td>\n",
       "      <td>UNBELIEVABLE! OBAMA’S ATTORNEY GENERAL SAYS MO...</td>\n",
       "      <td>354</td>\n",
       "    </tr>\n",
       "    <tr>\n",
       "      <th>3</th>\n",
       "      <td>3</td>\n",
       "      <td>Bobby Jindal, raised Hindu, uses story of Chri...</td>\n",
       "      <td>A dozen politically active pastors came here f...</td>\n",
       "      <td>0</td>\n",
       "      <td>Bobby Jindal, raised Hindu, uses story of Chri...</td>\n",
       "      <td>8116</td>\n",
       "    </tr>\n",
       "    <tr>\n",
       "      <th>4</th>\n",
       "      <td>4</td>\n",
       "      <td>SATAN 2: Russia unvelis an image of its terrif...</td>\n",
       "      <td>The RS-28 Sarmat missile, dubbed Satan 2, will...</td>\n",
       "      <td>1</td>\n",
       "      <td>SATAN 2: Russia unvelis an image of its terrif...</td>\n",
       "      <td>2012</td>\n",
       "    </tr>\n",
       "  </tbody>\n",
       "</table>\n",
       "</div>"
      ],
      "text/plain": [
       "   Unnamed: 0                                              title  \\\n",
       "0           0  LAW ENFORCEMENT ON HIGH ALERT Following Threat...   \n",
       "1           1                                                      \n",
       "2           2  UNBELIEVABLE! OBAMA’S ATTORNEY GENERAL SAYS MO...   \n",
       "3           3  Bobby Jindal, raised Hindu, uses story of Chri...   \n",
       "4           4  SATAN 2: Russia unvelis an image of its terrif...   \n",
       "\n",
       "                                                text  label  \\\n",
       "0  No comment is expected from Barack Obama Membe...      1   \n",
       "1     Did they post their votes for Hillary already?      1   \n",
       "2   Now, most of the demonstrators gathered last ...      1   \n",
       "3  A dozen politically active pastors came here f...      0   \n",
       "4  The RS-28 Sarmat missile, dubbed Satan 2, will...      1   \n",
       "\n",
       "                                            all_text  text_length  \n",
       "0  LAW ENFORCEMENT ON HIGH ALERT Following Threat...         5180  \n",
       "1     Did they post their votes for Hillary already?           47  \n",
       "2  UNBELIEVABLE! OBAMA’S ATTORNEY GENERAL SAYS MO...          354  \n",
       "3  Bobby Jindal, raised Hindu, uses story of Chri...         8116  \n",
       "4  SATAN 2: Russia unvelis an image of its terrif...         2012  "
      ]
     },
     "execution_count": 130,
     "metadata": {},
     "output_type": "execute_result"
    }
   ],
   "source": [
    "# One could argue to only use data[\"text\"] as X\n",
    "data[\"all_text\"]\n",
    "data.head()"
   ]
  },
  {
   "cell_type": "code",
   "execution_count": 131,
   "id": "21c049e5",
   "metadata": {},
   "outputs": [
    {
     "data": {
      "text/plain": [
       "'def preprocessing(sentence):\\n    sentence = sentence.strip()\\n    sentence = sentence.lower()\\n    sentence = \"\".join(char for char in sentence if not char.isdigit())\\n    for x in string.punctuation:\\n        sentence = sentence.replace(x, \"\")\\n\\n    for x in \"’\":\\n        sentence = sentence.replace(x, \"\")\\n    #for x in \\'\"\"\\':\\n        #sentence = sentence.replace(x, \"\")\\n\\n    tokens = word_tokenize(sentence)\\n    language = set(stopwords.words(\"english\"))\\n    sentence = [w for  w in tokens if not w in language]\\n    v_l = [WordNetLemmatizer().lemmatize(word, pos = \"v\") for word in sentence]\\n    n_l = [WordNetLemmatizer().lemmatize(word, pos = \"n\") for word in v_l]\\n    return \\' \\'.join(n_l)\\n'"
      ]
     },
     "execution_count": 131,
     "metadata": {},
     "output_type": "execute_result"
    }
   ],
   "source": [
    "# YOUR CODE HERE\n",
    "\n",
    "\"\"\"def preprocessing(sentence):\n",
    "    sentence = sentence.strip()\n",
    "    sentence = sentence.lower()\n",
    "    sentence = \"\".join(char for char in sentence if not char.isdigit())\n",
    "    for x in string.punctuation:\n",
    "        sentence = sentence.replace(x, \"\")\n",
    "\n",
    "    for x in \"’\":\n",
    "        sentence = sentence.replace(x, \"\")\n",
    "    #for x in '\"\"':\n",
    "        #sentence = sentence.replace(x, \"\")\n",
    "\n",
    "    tokens = word_tokenize(sentence)\n",
    "    language = set(stopwords.words(\"english\"))\n",
    "    sentence = [w for  w in tokens if not w in language]\n",
    "    v_l = [WordNetLemmatizer().lemmatize(word, pos = \"v\") for word in sentence]\n",
    "    n_l = [WordNetLemmatizer().lemmatize(word, pos = \"n\") for word in v_l]\n",
    "    return ' '.join(n_l)\n",
    "\"\"\"\n"
   ]
  },
  {
   "cell_type": "code",
   "execution_count": 132,
   "id": "f7cc37e5",
   "metadata": {},
   "outputs": [
    {
     "data": {
      "text/plain": [
       "'import string\\nfrom nltk.corpus import stopwords\\nfrom nltk import word_tokenize\\nfrom nltk.stem import WordNetLemmatizer\\nfrom collections import Counter\\n\\n\\ndef preprocessing(sentence):\\n    sentence = sentence.strip()\\n    sentence = sentence.lower()\\n    sentence = \"\".join(char for char in sentence if not char.isdigit())\\n    for x in string.punctuation:\\n        sentence = sentence.replace(x, \"\")\\n\\n    for x in \"’\":\\n        sentence = sentence.replace(x, \"\")\\n    #for x in \\'\"\"\\':\\n        #sentence = sentence.replace(x, \"\")\\n\\n    tokens = word_tokenize(sentence)\\n\\n    language = set(stopwords.words(\"english\"))\\n    #language.update()\\n    language.difference_update([\"not\", \"no\",\"nor\", \"against\", \"however\", \"but\", \"never\", \"should\", \"would\" , \"could\", \"might\", \"must\", \"no\", \"yes\", \"always\", \"none\", \"only\", \"still\", \"yet\", \"despite\", \"unless\", \"until\", \"cannot\" ])\\n    sentence = [w for  w in tokens if not w in language]\\n    v_l = [WordNetLemmatizer().lemmatize(word, pos = \"v\") for word in sentence]\\n    n_l = [WordNetLemmatizer().lemmatize(word, pos = \"n\") for word in v_l]\\n    return \\' \\'.join(n_l)'"
      ]
     },
     "execution_count": 132,
     "metadata": {},
     "output_type": "execute_result"
    }
   ],
   "source": [
    "\"\"\"import string\n",
    "from nltk.corpus import stopwords\n",
    "from nltk import word_tokenize\n",
    "from nltk.stem import WordNetLemmatizer\n",
    "from collections import Counter\n",
    "\n",
    "\n",
    "def preprocessing(sentence):\n",
    "    sentence = sentence.strip()\n",
    "    sentence = sentence.lower()\n",
    "    sentence = \"\".join(char for char in sentence if not char.isdigit())\n",
    "    for x in string.punctuation:\n",
    "        sentence = sentence.replace(x, \"\")\n",
    "\n",
    "    for x in \"’\":\n",
    "        sentence = sentence.replace(x, \"\")\n",
    "    #for x in '\"\"':\n",
    "        #sentence = sentence.replace(x, \"\")\n",
    "\n",
    "    tokens = word_tokenize(sentence)\n",
    "\n",
    "    language = set(stopwords.words(\"english\"))\n",
    "    #language.update()\n",
    "    language.difference_update([\"not\", \"no\",\"nor\", \"against\", \"however\", \"but\", \"never\", \"should\", \"would\" , \"could\", \"might\", \"must\", \"no\", \"yes\", \"always\", \"none\", \"only\", \"still\", \"yet\", \"despite\", \"unless\", \"until\", \"cannot\" ])\n",
    "    sentence = [w for  w in tokens if not w in language]\n",
    "    v_l = [WordNetLemmatizer().lemmatize(word, pos = \"v\") for word in sentence]\n",
    "    n_l = [WordNetLemmatizer().lemmatize(word, pos = \"n\") for word in v_l]\n",
    "    return ' '.join(n_l)\"\"\""
   ]
  },
  {
   "cell_type": "code",
   "execution_count": 133,
   "id": "87721859",
   "metadata": {},
   "outputs": [
    {
     "data": {
      "text/plain": [
       "'import string\\nfrom nltk.corpus import stopwords\\nfrom nltk import word_tokenize\\nfrom nltk.stem import WordNetLemmatizer\\nfrom collections import Counter\\n\\ndef word_count(sentence):\\n    sentence = sentence.strip()\\n    sentence = sentence.lower()\\n    sentence = \"\".join(char for char in sentence if not char.isdigit())\\n    for x in string.punctuation:\\n        sentence = sentence.replace(x, \"\")\\n    for x in \"’\":\\n        sentence = sentence.replace(x, \"\")\\n    tokens = word_tokenize(sentence)\\n    language = set(stopwords.words(\"english\"))\\n    sentence = [w for  w in tokens if not w in language]\\n    language.difference_update([\"not\", \"no\",\"nor\", \"against\", \"however\", \"but\", \"never\", \"should\", \"would\" , \"could\", \"might\", \"must\", \"no\", \"yes\", \"always\", \"none\", \"only\", \"still\", \"yet\", \"despite\", \"unless\", \"until\", \"cannot\" ])\\n\\n    sentence = [w for  w in tokens if not w in language]\\n    v_l = [WordNetLemmatizer().lemmatize(word, pos = \"v\") for word in sentence]\\n    n_l = [WordNetLemmatizer().lemmatize(word, pos = \"n\") for word in v_l]\\n    word_counts = Counter(n_l)\\n\\n    return word_counts\\n\\ntotal_word_counts = Counter()\\ndata[\"all_text_cleaned_test\"] = data[\"all_text\"].apply(word_count)\\nfor counts in data[\"all_text_cleaned_test\"]:\\n    total_word_counts.update(counts)\\ntotal = sum(total_word_counts.values())\\n\\nmost_common_words = total_word_counts.most_common(100)\\nfor word, count in most_common_words:\\n    print(f\"{word}: {count}\")\\n'"
      ]
     },
     "execution_count": 133,
     "metadata": {},
     "output_type": "execute_result"
    }
   ],
   "source": [
    "\"\"\"import string\n",
    "from nltk.corpus import stopwords\n",
    "from nltk import word_tokenize\n",
    "from nltk.stem import WordNetLemmatizer\n",
    "from collections import Counter\n",
    "\n",
    "def word_count(sentence):\n",
    "    sentence = sentence.strip()\n",
    "    sentence = sentence.lower()\n",
    "    sentence = \"\".join(char for char in sentence if not char.isdigit())\n",
    "    for x in string.punctuation:\n",
    "        sentence = sentence.replace(x, \"\")\n",
    "    for x in \"’\":\n",
    "        sentence = sentence.replace(x, \"\")\n",
    "    tokens = word_tokenize(sentence)\n",
    "    language = set(stopwords.words(\"english\"))\n",
    "    sentence = [w for  w in tokens if not w in language]\n",
    "    language.difference_update([\"not\", \"no\",\"nor\", \"against\", \"however\", \"but\", \"never\", \"should\", \"would\" , \"could\", \"might\", \"must\", \"no\", \"yes\", \"always\", \"none\", \"only\", \"still\", \"yet\", \"despite\", \"unless\", \"until\", \"cannot\" ])\n",
    "\n",
    "    sentence = [w for  w in tokens if not w in language]\n",
    "    v_l = [WordNetLemmatizer().lemmatize(word, pos = \"v\") for word in sentence]\n",
    "    n_l = [WordNetLemmatizer().lemmatize(word, pos = \"n\") for word in v_l]\n",
    "    word_counts = Counter(n_l)\n",
    "\n",
    "    return word_counts\n",
    "\n",
    "total_word_counts = Counter()\n",
    "data[\"all_text_cleaned_test\"] = data[\"all_text\"].apply(word_count)\n",
    "for counts in data[\"all_text_cleaned_test\"]:\n",
    "    total_word_counts.update(counts)\n",
    "total = sum(total_word_counts.values())\n",
    "\n",
    "most_common_words = total_word_counts.most_common(100)\n",
    "for word, count in most_common_words:\n",
    "    print(f\"{word}: {count}\")\n",
    "\"\"\""
   ]
  },
  {
   "cell_type": "code",
   "execution_count": 134,
   "id": "ea4bdf52",
   "metadata": {},
   "outputs": [],
   "source": [
    "#len(stopwords.words(\"english\"))\n",
    "\n",
    "#print(stopwords.words(\"english\"))"
   ]
  },
  {
   "cell_type": "code",
   "execution_count": 135,
   "id": "b51107fb",
   "metadata": {},
   "outputs": [],
   "source": [
    "def preprocessing(sentence):\n",
    "    sentence = sentence.strip()\n",
    "    sentence = sentence.lower()\n",
    "    sentence = \"\".join(char for char in sentence if not char.isdigit())\n",
    "    for x in string.punctuation:\n",
    "        sentence = sentence.replace(x, \"\")\n",
    "\n",
    "    for x in \"’\":\n",
    "        sentence = sentence.replace(x, \"\")\n",
    "    #for x in '\"\"':\n",
    "        #sentence = sentence.replace(x, \"\")\n",
    "\n",
    "    tokens = word_tokenize(sentence)\n",
    "\n",
    "    language = set(stopwords.words(\"english\"))\n",
    "    #language.update([\"trump\", \"clinton\", \"obama\"])\n",
    "    language.difference_update([\"not\", \"no\",\"nor\", \"against\", \"however\", \"but\", \"never\", \"should\", \"would\" , \"could\", \"might\", \"must\", \"no\", \"yes\", \"always\", \"none\", \"only\", \"still\", \"yet\", \"despite\", \"unless\", \"until\", \"cannot\" ])\n",
    "    sentence = [w for  w in tokens if not w in language]\n",
    "    v_l = [WordNetLemmatizer().lemmatize(word, pos = \"v\") for word in sentence]\n",
    "    n_l = [WordNetLemmatizer().lemmatize(word, pos = \"n\") for word in v_l]\n",
    "    return ' '.join(n_l)"
   ]
  },
  {
   "cell_type": "code",
   "execution_count": 136,
   "id": "20628ccf",
   "metadata": {},
   "outputs": [
    {
     "name": "stdout",
     "output_type": "stream",
     "text": [
      "432804\n",
      "43278\n"
     ]
    }
   ],
   "source": [
    "print(data.size)\n",
    "\n",
    "data_sampled = data.sample(frac=0.1, random_state=42)\n",
    "\n",
    "print(data_sampled.size)"
   ]
  },
  {
   "cell_type": "code",
   "execution_count": 137,
   "id": "be836ac1",
   "metadata": {},
   "outputs": [],
   "source": [
    "data_sampled[\"all_text_cleaned\"] = data_sampled[\"all_text\"].apply(preprocessing)"
   ]
  },
  {
   "cell_type": "code",
   "execution_count": 138,
   "id": "75e80b02",
   "metadata": {},
   "outputs": [],
   "source": [
    "data_preproc = data_sampled[[\"all_text_cleaned\", \"label\"]]"
   ]
  },
  {
   "cell_type": "code",
   "execution_count": 139,
   "id": "5417b7b8",
   "metadata": {},
   "outputs": [
    {
     "data": {
      "text/html": [
       "<div>\n",
       "<style scoped>\n",
       "    .dataframe tbody tr th:only-of-type {\n",
       "        vertical-align: middle;\n",
       "    }\n",
       "\n",
       "    .dataframe tbody tr th {\n",
       "        vertical-align: top;\n",
       "    }\n",
       "\n",
       "    .dataframe thead th {\n",
       "        text-align: right;\n",
       "    }\n",
       "</style>\n",
       "<table border=\"1\" class=\"dataframe\">\n",
       "  <thead>\n",
       "    <tr style=\"text-align: right;\">\n",
       "      <th></th>\n",
       "      <th>all_text_cleaned</th>\n",
       "      <th>label</th>\n",
       "    </tr>\n",
       "  </thead>\n",
       "  <tbody>\n",
       "    <tr>\n",
       "      <th>61370</th>\n",
       "      <td>arnold schwarzenegger send message liberal whi...</td>\n",
       "      <td>1</td>\n",
       "    </tr>\n",
       "    <tr>\n",
       "      <th>2189</th>\n",
       "      <td>wow “ mexican need kill donald trump become pr...</td>\n",
       "      <td>1</td>\n",
       "    </tr>\n",
       "    <tr>\n",
       "      <th>60609</th>\n",
       "      <td>jimmy carter recover dehydration scare canada ...</td>\n",
       "      <td>0</td>\n",
       "    </tr>\n",
       "    <tr>\n",
       "      <th>51565</th>\n",
       "      <td>friar mission revive brooklyn church religious...</td>\n",
       "      <td>0</td>\n",
       "    </tr>\n",
       "    <tr>\n",
       "      <th>39431</th>\n",
       "      <td>boy autism make first friend ever mom cant sto...</td>\n",
       "      <td>1</td>\n",
       "    </tr>\n",
       "    <tr>\n",
       "      <th>...</th>\n",
       "      <td>...</td>\n",
       "      <td>...</td>\n",
       "    </tr>\n",
       "    <tr>\n",
       "      <th>46006</th>\n",
       "      <td>obama condemn trump…says u “ bless muslim comm...</td>\n",
       "      <td>1</td>\n",
       "    </tr>\n",
       "    <tr>\n",
       "      <th>33197</th>\n",
       "      <td>czech foreign minister lightly injure car acci...</td>\n",
       "      <td>0</td>\n",
       "    </tr>\n",
       "    <tr>\n",
       "      <th>61712</th>\n",
       "      <td>house intel slap subpoena mccain institute ass...</td>\n",
       "      <td>1</td>\n",
       "    </tr>\n",
       "    <tr>\n",
       "      <th>17836</th>\n",
       "      <td>terror group plan violence against trump suppo...</td>\n",
       "      <td>1</td>\n",
       "    </tr>\n",
       "    <tr>\n",
       "      <th>47596</th>\n",
       "      <td>wheres medium blm block street storm football ...</td>\n",
       "      <td>1</td>\n",
       "    </tr>\n",
       "  </tbody>\n",
       "</table>\n",
       "<p>7213 rows × 2 columns</p>\n",
       "</div>"
      ],
      "text/plain": [
       "                                        all_text_cleaned  label\n",
       "61370  arnold schwarzenegger send message liberal whi...      1\n",
       "2189   wow “ mexican need kill donald trump become pr...      1\n",
       "60609  jimmy carter recover dehydration scare canada ...      0\n",
       "51565  friar mission revive brooklyn church religious...      0\n",
       "39431  boy autism make first friend ever mom cant sto...      1\n",
       "...                                                  ...    ...\n",
       "46006  obama condemn trump…says u “ bless muslim comm...      1\n",
       "33197  czech foreign minister lightly injure car acci...      0\n",
       "61712  house intel slap subpoena mccain institute ass...      1\n",
       "17836  terror group plan violence against trump suppo...      1\n",
       "47596  wheres medium blm block street storm football ...      1\n",
       "\n",
       "[7213 rows x 2 columns]"
      ]
     },
     "execution_count": 139,
     "metadata": {},
     "output_type": "execute_result"
    }
   ],
   "source": [
    "data_preproc"
   ]
  },
  {
   "cell_type": "code",
   "execution_count": 140,
   "id": "9e4f1eaf",
   "metadata": {},
   "outputs": [],
   "source": [
    "y = data_preproc[\"label\"]\n",
    "X = data_preproc[\"all_text_cleaned\"]"
   ]
  },
  {
   "cell_type": "code",
   "execution_count": 141,
   "id": "ad7ba315",
   "metadata": {},
   "outputs": [
    {
     "data": {
      "text/plain": [
       "61370    arnold schwarzenegger send message liberal whi...\n",
       "2189     wow “ mexican need kill donald trump become pr...\n",
       "60609    jimmy carter recover dehydration scare canada ...\n",
       "51565    friar mission revive brooklyn church religious...\n",
       "39431    boy autism make first friend ever mom cant sto...\n",
       "Name: all_text_cleaned, dtype: object"
      ]
     },
     "execution_count": 141,
     "metadata": {},
     "output_type": "execute_result"
    }
   ],
   "source": [
    "X.head()"
   ]
  },
  {
   "cell_type": "code",
   "execution_count": 142,
   "id": "8382f4ca",
   "metadata": {},
   "outputs": [],
   "source": [
    "#Split\n",
    "from sklearn.model_selection import train_test_split\n",
    "\n",
    "X_train, X_test, y_train, y_test = train_test_split(X, y, test_size=0.3, random_state=42)"
   ]
  },
  {
   "cell_type": "code",
   "execution_count": 143,
   "id": "81c407be",
   "metadata": {},
   "outputs": [
    {
     "data": {
      "text/plain": [
       "(5049,)"
      ]
     },
     "execution_count": 143,
     "metadata": {},
     "output_type": "execute_result"
    }
   ],
   "source": [
    "X_train.shape"
   ]
  },
  {
   "cell_type": "code",
   "execution_count": 144,
   "id": "1c4ec508",
   "metadata": {},
   "outputs": [],
   "source": [
    "pipe = make_pipeline(CountVectorizer(),MultinomialNB())\n"
   ]
  },
  {
   "cell_type": "code",
   "execution_count": 145,
   "id": "5a57df58",
   "metadata": {},
   "outputs": [
    {
     "data": {
      "text/plain": [
       "{'memory': None,\n",
       " 'steps': [('countvectorizer', CountVectorizer()),\n",
       "  ('multinomialnb', MultinomialNB())],\n",
       " 'verbose': False,\n",
       " 'countvectorizer': CountVectorizer(),\n",
       " 'multinomialnb': MultinomialNB(),\n",
       " 'countvectorizer__analyzer': 'word',\n",
       " 'countvectorizer__binary': False,\n",
       " 'countvectorizer__decode_error': 'strict',\n",
       " 'countvectorizer__dtype': numpy.int64,\n",
       " 'countvectorizer__encoding': 'utf-8',\n",
       " 'countvectorizer__input': 'content',\n",
       " 'countvectorizer__lowercase': True,\n",
       " 'countvectorizer__max_df': 1.0,\n",
       " 'countvectorizer__max_features': None,\n",
       " 'countvectorizer__min_df': 1,\n",
       " 'countvectorizer__ngram_range': (1, 1),\n",
       " 'countvectorizer__preprocessor': None,\n",
       " 'countvectorizer__stop_words': None,\n",
       " 'countvectorizer__strip_accents': None,\n",
       " 'countvectorizer__token_pattern': '(?u)\\\\b\\\\w\\\\w+\\\\b',\n",
       " 'countvectorizer__tokenizer': None,\n",
       " 'countvectorizer__vocabulary': None,\n",
       " 'multinomialnb__alpha': 1.0,\n",
       " 'multinomialnb__class_prior': None,\n",
       " 'multinomialnb__fit_prior': True,\n",
       " 'multinomialnb__force_alpha': True}"
      ]
     },
     "execution_count": 145,
     "metadata": {},
     "output_type": "execute_result"
    }
   ],
   "source": [
    "pipe.get_params()"
   ]
  },
  {
   "cell_type": "code",
   "execution_count": 146,
   "id": "4b79841f",
   "metadata": {},
   "outputs": [
    {
     "name": "stderr",
     "output_type": "stream",
     "text": [
      "/home/tober/.pyenv/versions/3.10.6/envs/cybnews/lib/python3.10/site-packages/sklearn/model_selection/_validation.py:540: FitFailedWarning: \n",
      "15 fits failed out of a total of 60.\n",
      "The score on these train-test partitions for these parameters will be set to nan.\n",
      "If these failures are not expected, you can try to debug them by setting error_score='raise'.\n",
      "\n",
      "Below are more details about the failures:\n",
      "--------------------------------------------------------------------------------\n",
      "15 fits failed with the following error:\n",
      "Traceback (most recent call last):\n",
      "  File \"/home/tober/.pyenv/versions/3.10.6/envs/cybnews/lib/python3.10/site-packages/sklearn/model_selection/_validation.py\", line 888, in _fit_and_score\n",
      "    estimator.fit(X_train, y_train, **fit_params)\n",
      "  File \"/home/tober/.pyenv/versions/3.10.6/envs/cybnews/lib/python3.10/site-packages/sklearn/base.py\", line 1473, in wrapper\n",
      "    return fit_method(estimator, *args, **kwargs)\n",
      "  File \"/home/tober/.pyenv/versions/3.10.6/envs/cybnews/lib/python3.10/site-packages/sklearn/pipeline.py\", line 469, in fit\n",
      "    Xt = self._fit(X, y, routed_params)\n",
      "  File \"/home/tober/.pyenv/versions/3.10.6/envs/cybnews/lib/python3.10/site-packages/sklearn/pipeline.py\", line 406, in _fit\n",
      "    X, fitted_transformer = fit_transform_one_cached(\n",
      "  File \"/home/tober/.pyenv/versions/3.10.6/envs/cybnews/lib/python3.10/site-packages/joblib/memory.py\", line 312, in __call__\n",
      "    return self.func(*args, **kwargs)\n",
      "  File \"/home/tober/.pyenv/versions/3.10.6/envs/cybnews/lib/python3.10/site-packages/sklearn/pipeline.py\", line 1310, in _fit_transform_one\n",
      "    res = transformer.fit_transform(X, y, **params.get(\"fit_transform\", {}))\n",
      "  File \"/home/tober/.pyenv/versions/3.10.6/envs/cybnews/lib/python3.10/site-packages/sklearn/base.py\", line 1473, in wrapper\n",
      "    return fit_method(estimator, *args, **kwargs)\n",
      "  File \"/home/tober/.pyenv/versions/3.10.6/envs/cybnews/lib/python3.10/site-packages/sklearn/feature_extraction/text.py\", line 1354, in fit_transform\n",
      "    self._validate_ngram_range()\n",
      "  File \"/home/tober/.pyenv/versions/3.10.6/envs/cybnews/lib/python3.10/site-packages/sklearn/feature_extraction/text.py\", line 514, in _validate_ngram_range\n",
      "    raise ValueError(\n",
      "ValueError: Invalid value for ngram_range=(2, 1) lower boundary larger than the upper boundary.\n",
      "\n",
      "  warnings.warn(some_fits_failed_message, FitFailedWarning)\n",
      "/home/tober/.pyenv/versions/3.10.6/envs/cybnews/lib/python3.10/site-packages/sklearn/model_selection/_search.py:1102: UserWarning: One or more of the test scores are non-finite: [0.87819427 0.87918496 0.86868893        nan        nan        nan\n",
      " 0.88631485 0.89166354 0.87086773 0.86908458 0.88076971 0.87958316]\n",
      "  warnings.warn(\n"
     ]
    },
    {
     "data": {
      "text/plain": [
       "np.float64(0.891663542964802)"
      ]
     },
     "execution_count": 146,
     "metadata": {},
     "output_type": "execute_result"
    }
   ],
   "source": [
    "grid = {\n",
    "    \"countvectorizer__ngram_range\": ((1,1), (2,1), (1,2), (2,2)),\n",
    "    \"multinomialnb__alpha\": (0.01, 0.1, 1)\n",
    "}\n",
    "search = GridSearchCV(pipe,grid, scoring = \"accuracy\", cv =5, n_jobs=-1)\n",
    "search.fit(X_train,y_train)\n",
    "search.best_score_"
   ]
  },
  {
   "cell_type": "code",
   "execution_count": 147,
   "id": "38432fb8",
   "metadata": {},
   "outputs": [
    {
     "data": {
      "text/plain": [
       "{'countvectorizer__ngram_range': (1, 2), 'multinomialnb__alpha': 0.1}"
      ]
     },
     "execution_count": 147,
     "metadata": {},
     "output_type": "execute_result"
    }
   ],
   "source": [
    "search.best_params_\n"
   ]
  },
  {
   "cell_type": "code",
   "execution_count": 148,
   "id": "b5728201",
   "metadata": {},
   "outputs": [],
   "source": [
    "y_pred = search.predict(X_test)"
   ]
  },
  {
   "cell_type": "code",
   "execution_count": 149,
   "id": "198cfca2",
   "metadata": {},
   "outputs": [
    {
     "data": {
      "text/plain": [
       "0.8932532347504621"
      ]
     },
     "execution_count": 149,
     "metadata": {},
     "output_type": "execute_result"
    }
   ],
   "source": [
    "test_accuracy = accuracy_score(y_test, y_pred)\n",
    "test_accuracy"
   ]
  },
  {
   "cell_type": "markdown",
   "id": "f4ad568f",
   "metadata": {},
   "source": [
    "TF-idf Model\n"
   ]
  },
  {
   "cell_type": "code",
   "execution_count": 150,
   "id": "f6f9426e",
   "metadata": {},
   "outputs": [
    {
     "data": {
      "text/plain": [
       "{'memory': None,\n",
       " 'steps': [('tfidfvectorizer', TfidfVectorizer()),\n",
       "  ('multinomialnb', MultinomialNB())],\n",
       " 'verbose': False,\n",
       " 'tfidfvectorizer': TfidfVectorizer(),\n",
       " 'multinomialnb': MultinomialNB(),\n",
       " 'tfidfvectorizer__analyzer': 'word',\n",
       " 'tfidfvectorizer__binary': False,\n",
       " 'tfidfvectorizer__decode_error': 'strict',\n",
       " 'tfidfvectorizer__dtype': numpy.float64,\n",
       " 'tfidfvectorizer__encoding': 'utf-8',\n",
       " 'tfidfvectorizer__input': 'content',\n",
       " 'tfidfvectorizer__lowercase': True,\n",
       " 'tfidfvectorizer__max_df': 1.0,\n",
       " 'tfidfvectorizer__max_features': None,\n",
       " 'tfidfvectorizer__min_df': 1,\n",
       " 'tfidfvectorizer__ngram_range': (1, 1),\n",
       " 'tfidfvectorizer__norm': 'l2',\n",
       " 'tfidfvectorizer__preprocessor': None,\n",
       " 'tfidfvectorizer__smooth_idf': True,\n",
       " 'tfidfvectorizer__stop_words': None,\n",
       " 'tfidfvectorizer__strip_accents': None,\n",
       " 'tfidfvectorizer__sublinear_tf': False,\n",
       " 'tfidfvectorizer__token_pattern': '(?u)\\\\b\\\\w\\\\w+\\\\b',\n",
       " 'tfidfvectorizer__tokenizer': None,\n",
       " 'tfidfvectorizer__use_idf': True,\n",
       " 'tfidfvectorizer__vocabulary': None,\n",
       " 'multinomialnb__alpha': 1.0,\n",
       " 'multinomialnb__class_prior': None,\n",
       " 'multinomialnb__fit_prior': True,\n",
       " 'multinomialnb__force_alpha': True}"
      ]
     },
     "execution_count": 150,
     "metadata": {},
     "output_type": "execute_result"
    }
   ],
   "source": [
    "pipe_tf = make_pipeline(TfidfVectorizer(),MultinomialNB())\n",
    "pipe_tf.get_params()\n"
   ]
  },
  {
   "cell_type": "code",
   "execution_count": 151,
   "id": "ad64b2c8",
   "metadata": {},
   "outputs": [
    {
     "name": "stderr",
     "output_type": "stream",
     "text": [
      "/home/tober/.pyenv/versions/3.10.6/envs/cybnews/lib/python3.10/site-packages/sklearn/model_selection/_validation.py:540: FitFailedWarning: \n",
      "15 fits failed out of a total of 60.\n",
      "The score on these train-test partitions for these parameters will be set to nan.\n",
      "If these failures are not expected, you can try to debug them by setting error_score='raise'.\n",
      "\n",
      "Below are more details about the failures:\n",
      "--------------------------------------------------------------------------------\n",
      "15 fits failed with the following error:\n",
      "Traceback (most recent call last):\n",
      "  File \"/home/tober/.pyenv/versions/3.10.6/envs/cybnews/lib/python3.10/site-packages/sklearn/model_selection/_validation.py\", line 888, in _fit_and_score\n",
      "    estimator.fit(X_train, y_train, **fit_params)\n",
      "  File \"/home/tober/.pyenv/versions/3.10.6/envs/cybnews/lib/python3.10/site-packages/sklearn/base.py\", line 1473, in wrapper\n",
      "    return fit_method(estimator, *args, **kwargs)\n",
      "  File \"/home/tober/.pyenv/versions/3.10.6/envs/cybnews/lib/python3.10/site-packages/sklearn/pipeline.py\", line 469, in fit\n",
      "    Xt = self._fit(X, y, routed_params)\n",
      "  File \"/home/tober/.pyenv/versions/3.10.6/envs/cybnews/lib/python3.10/site-packages/sklearn/pipeline.py\", line 406, in _fit\n",
      "    X, fitted_transformer = fit_transform_one_cached(\n",
      "  File \"/home/tober/.pyenv/versions/3.10.6/envs/cybnews/lib/python3.10/site-packages/joblib/memory.py\", line 312, in __call__\n",
      "    return self.func(*args, **kwargs)\n",
      "  File \"/home/tober/.pyenv/versions/3.10.6/envs/cybnews/lib/python3.10/site-packages/sklearn/pipeline.py\", line 1310, in _fit_transform_one\n",
      "    res = transformer.fit_transform(X, y, **params.get(\"fit_transform\", {}))\n",
      "  File \"/home/tober/.pyenv/versions/3.10.6/envs/cybnews/lib/python3.10/site-packages/sklearn/feature_extraction/text.py\", line 2091, in fit_transform\n",
      "    X = super().fit_transform(raw_documents)\n",
      "  File \"/home/tober/.pyenv/versions/3.10.6/envs/cybnews/lib/python3.10/site-packages/sklearn/base.py\", line 1473, in wrapper\n",
      "    return fit_method(estimator, *args, **kwargs)\n",
      "  File \"/home/tober/.pyenv/versions/3.10.6/envs/cybnews/lib/python3.10/site-packages/sklearn/feature_extraction/text.py\", line 1354, in fit_transform\n",
      "    self._validate_ngram_range()\n",
      "  File \"/home/tober/.pyenv/versions/3.10.6/envs/cybnews/lib/python3.10/site-packages/sklearn/feature_extraction/text.py\", line 514, in _validate_ngram_range\n",
      "    raise ValueError(\n",
      "ValueError: Invalid value for ngram_range=(2, 1) lower boundary larger than the upper boundary.\n",
      "\n",
      "  warnings.warn(some_fits_failed_message, FitFailedWarning)\n",
      "/home/tober/.pyenv/versions/3.10.6/envs/cybnews/lib/python3.10/site-packages/sklearn/model_selection/_search.py:1102: UserWarning: One or more of the test scores are non-finite: [0.86492479        nan 0.88512634 0.88393881 0.85977549        nan\n",
      " 0.87581705 0.88572177 0.84828857        nan 0.85343787 0.87680931]\n",
      "  warnings.warn(\n"
     ]
    },
    {
     "data": {
      "text/plain": [
       "np.float64(0.8857217713842742)"
      ]
     },
     "execution_count": 151,
     "metadata": {},
     "output_type": "execute_result"
    }
   ],
   "source": [
    "grid_tf = {\n",
    "    \"tfidfvectorizer__ngram_range\": ((1,1), (2,1), (1,2), (2,2)),\n",
    "    \"multinomialnb__alpha\": (0.01, 0.1, 1)\n",
    "}\n",
    "\n",
    "search_g = GridSearchCV(pipe_tf,grid_tf, scoring = \"accuracy\", cv =5, n_jobs=-1)\n",
    "search_g.fit(X_train,y_train)\n",
    "search_g.best_score_"
   ]
  },
  {
   "cell_type": "code",
   "execution_count": 152,
   "id": "968d9dcc",
   "metadata": {},
   "outputs": [
    {
     "data": {
      "text/plain": [
       "0.8923290203327172"
      ]
     },
     "execution_count": 152,
     "metadata": {},
     "output_type": "execute_result"
    }
   ],
   "source": [
    "search_g.best_params_\n",
    "y_pred = search_g.predict(X_test)\n",
    "\n",
    "test_accuracy = accuracy_score(y_test, y_pred)\n",
    "test_accuracy"
   ]
  },
  {
   "cell_type": "code",
   "execution_count": 153,
   "id": "f6fa905c",
   "metadata": {},
   "outputs": [
    {
     "data": {
      "text/plain": [
       "'\\nM\\n1.Bag of Words (BoW):\\nNaive Bayes\\nSVM\\nLogistic Regression\\nRandom Forest\\n\\n2.TF-IDF:\\nNaive Bayes\\nSVM\\nLogistic Regression\\nRandom Forest\\n\\n\\nDeep\\n3.Word Embeddings:\\nSVM\\nLogistic Regression\\nDeep Learning (LSTM, CNN)\\nTransformers (prepare=)\\n\\n4.Transformers:\\nDeep Learning (LSTM, CNN)\\nTransformers models'"
      ]
     },
     "execution_count": 153,
     "metadata": {},
     "output_type": "execute_result"
    }
   ],
   "source": [
    "\"\"\"\n",
    "M\n",
    "1.Bag of Words (BoW):\n",
    "Naive Bayes\n",
    "SVM\n",
    "Logistic Regression\n",
    "Random Forest\n",
    "\n",
    "2.TF-IDF:\n",
    "Naive Bayes\n",
    "SVM\n",
    "Logistic Regression\n",
    "Random Forest\n",
    "\n",
    "\n",
    "Deep\n",
    "3.Word Embeddings:\n",
    "SVM\n",
    "Logistic Regression\n",
    "Deep Learning (LSTM, CNN)\n",
    "Transformers (prepare=)\n",
    "\n",
    "4.Transformers:\n",
    "Deep Learning (LSTM, CNN)\n",
    "Transformers models\"\"\""
   ]
  },
  {
   "cell_type": "code",
   "execution_count": 154,
   "id": "14a461f2",
   "metadata": {},
   "outputs": [],
   "source": [
    "# Insights:\n",
    "# Model without Obama, Trump and Clinton drops the score"
   ]
  },
  {
   "cell_type": "code",
   "execution_count": 155,
   "id": "442fc6c2",
   "metadata": {},
   "outputs": [
    {
     "data": {
      "text/plain": [
       "{'memory': None,\n",
       " 'steps': [('tfidfvectorizer', TfidfVectorizer()), ('svc', SVC())],\n",
       " 'verbose': False,\n",
       " 'tfidfvectorizer': TfidfVectorizer(),\n",
       " 'svc': SVC(),\n",
       " 'tfidfvectorizer__analyzer': 'word',\n",
       " 'tfidfvectorizer__binary': False,\n",
       " 'tfidfvectorizer__decode_error': 'strict',\n",
       " 'tfidfvectorizer__dtype': numpy.float64,\n",
       " 'tfidfvectorizer__encoding': 'utf-8',\n",
       " 'tfidfvectorizer__input': 'content',\n",
       " 'tfidfvectorizer__lowercase': True,\n",
       " 'tfidfvectorizer__max_df': 1.0,\n",
       " 'tfidfvectorizer__max_features': None,\n",
       " 'tfidfvectorizer__min_df': 1,\n",
       " 'tfidfvectorizer__ngram_range': (1, 1),\n",
       " 'tfidfvectorizer__norm': 'l2',\n",
       " 'tfidfvectorizer__preprocessor': None,\n",
       " 'tfidfvectorizer__smooth_idf': True,\n",
       " 'tfidfvectorizer__stop_words': None,\n",
       " 'tfidfvectorizer__strip_accents': None,\n",
       " 'tfidfvectorizer__sublinear_tf': False,\n",
       " 'tfidfvectorizer__token_pattern': '(?u)\\\\b\\\\w\\\\w+\\\\b',\n",
       " 'tfidfvectorizer__tokenizer': None,\n",
       " 'tfidfvectorizer__use_idf': True,\n",
       " 'tfidfvectorizer__vocabulary': None,\n",
       " 'svc__C': 1.0,\n",
       " 'svc__break_ties': False,\n",
       " 'svc__cache_size': 200,\n",
       " 'svc__class_weight': None,\n",
       " 'svc__coef0': 0.0,\n",
       " 'svc__decision_function_shape': 'ovr',\n",
       " 'svc__degree': 3,\n",
       " 'svc__gamma': 'scale',\n",
       " 'svc__kernel': 'rbf',\n",
       " 'svc__max_iter': -1,\n",
       " 'svc__probability': False,\n",
       " 'svc__random_state': None,\n",
       " 'svc__shrinking': True,\n",
       " 'svc__tol': 0.001,\n",
       " 'svc__verbose': False}"
      ]
     },
     "execution_count": 155,
     "metadata": {},
     "output_type": "execute_result"
    }
   ],
   "source": [
    "pipe_svc_tf = make_pipeline(\n",
    "    TfidfVectorizer(),\n",
    "    SVC()\n",
    ")\n",
    "\n",
    "pipe_svc_tf.get_params()"
   ]
  },
  {
   "cell_type": "code",
   "execution_count": 157,
   "id": "74c81f15",
   "metadata": {},
   "outputs": [
    {
     "name": "stderr",
     "output_type": "stream",
     "text": [
      "/home/tober/.pyenv/versions/3.10.6/envs/cybnews/lib/python3.10/site-packages/sklearn/model_selection/_validation.py:540: FitFailedWarning: \n",
      "192 fits failed out of a total of 480.\n",
      "The score on these train-test partitions for these parameters will be set to nan.\n",
      "If these failures are not expected, you can try to debug them by setting error_score='raise'.\n",
      "\n",
      "Below are more details about the failures:\n",
      "--------------------------------------------------------------------------------\n",
      "120 fits failed with the following error:\n",
      "Traceback (most recent call last):\n",
      "  File \"/home/tober/.pyenv/versions/3.10.6/envs/cybnews/lib/python3.10/site-packages/sklearn/model_selection/_validation.py\", line 888, in _fit_and_score\n",
      "    estimator.fit(X_train, y_train, **fit_params)\n",
      "  File \"/home/tober/.pyenv/versions/3.10.6/envs/cybnews/lib/python3.10/site-packages/sklearn/base.py\", line 1473, in wrapper\n",
      "    return fit_method(estimator, *args, **kwargs)\n",
      "  File \"/home/tober/.pyenv/versions/3.10.6/envs/cybnews/lib/python3.10/site-packages/sklearn/pipeline.py\", line 469, in fit\n",
      "    Xt = self._fit(X, y, routed_params)\n",
      "  File \"/home/tober/.pyenv/versions/3.10.6/envs/cybnews/lib/python3.10/site-packages/sklearn/pipeline.py\", line 406, in _fit\n",
      "    X, fitted_transformer = fit_transform_one_cached(\n",
      "  File \"/home/tober/.pyenv/versions/3.10.6/envs/cybnews/lib/python3.10/site-packages/joblib/memory.py\", line 312, in __call__\n",
      "    return self.func(*args, **kwargs)\n",
      "  File \"/home/tober/.pyenv/versions/3.10.6/envs/cybnews/lib/python3.10/site-packages/sklearn/pipeline.py\", line 1310, in _fit_transform_one\n",
      "    res = transformer.fit_transform(X, y, **params.get(\"fit_transform\", {}))\n",
      "  File \"/home/tober/.pyenv/versions/3.10.6/envs/cybnews/lib/python3.10/site-packages/sklearn/feature_extraction/text.py\", line 2091, in fit_transform\n",
      "    X = super().fit_transform(raw_documents)\n",
      "  File \"/home/tober/.pyenv/versions/3.10.6/envs/cybnews/lib/python3.10/site-packages/sklearn/base.py\", line 1473, in wrapper\n",
      "    return fit_method(estimator, *args, **kwargs)\n",
      "  File \"/home/tober/.pyenv/versions/3.10.6/envs/cybnews/lib/python3.10/site-packages/sklearn/feature_extraction/text.py\", line 1354, in fit_transform\n",
      "    self._validate_ngram_range()\n",
      "  File \"/home/tober/.pyenv/versions/3.10.6/envs/cybnews/lib/python3.10/site-packages/sklearn/feature_extraction/text.py\", line 514, in _validate_ngram_range\n",
      "    raise ValueError(\n",
      "ValueError: Invalid value for ngram_range=(2, 1) lower boundary larger than the upper boundary.\n",
      "\n",
      "--------------------------------------------------------------------------------\n",
      "72 fits failed with the following error:\n",
      "Traceback (most recent call last):\n",
      "  File \"/home/tober/.pyenv/versions/3.10.6/envs/cybnews/lib/python3.10/site-packages/sklearn/model_selection/_validation.py\", line 888, in _fit_and_score\n",
      "    estimator.fit(X_train, y_train, **fit_params)\n",
      "  File \"/home/tober/.pyenv/versions/3.10.6/envs/cybnews/lib/python3.10/site-packages/sklearn/base.py\", line 1473, in wrapper\n",
      "    return fit_method(estimator, *args, **kwargs)\n",
      "  File \"/home/tober/.pyenv/versions/3.10.6/envs/cybnews/lib/python3.10/site-packages/sklearn/pipeline.py\", line 473, in fit\n",
      "    self._final_estimator.fit(Xt, y, **last_step_params[\"fit\"])\n",
      "  File \"/home/tober/.pyenv/versions/3.10.6/envs/cybnews/lib/python3.10/site-packages/sklearn/base.py\", line 1473, in wrapper\n",
      "    return fit_method(estimator, *args, **kwargs)\n",
      "  File \"/home/tober/.pyenv/versions/3.10.6/envs/cybnews/lib/python3.10/site-packages/sklearn/svm/_base.py\", line 184, in fit\n",
      "    raise TypeError(\"Sparse precomputed kernels are not supported.\")\n",
      "TypeError: Sparse precomputed kernels are not supported.\n",
      "\n",
      "  warnings.warn(some_fits_failed_message, FitFailedWarning)\n",
      "/home/tober/.pyenv/versions/3.10.6/envs/cybnews/lib/python3.10/site-packages/sklearn/model_selection/_search.py:1102: UserWarning: One or more of the test scores are non-finite: [0.86849061        nan 0.81244167 0.51198255 0.86849053        nan\n",
      " 0.81244167 0.51198255 0.57952252        nan 0.51020006 0.51020006\n",
      " 0.86928261        nan 0.80907478 0.51119032        nan        nan\n",
      "        nan        nan 0.86849061        nan 0.81244167 0.51198255\n",
      " 0.51020006        nan 0.51020006 0.51020006 0.57952252        nan\n",
      " 0.51020006 0.51020006 0.86928261        nan 0.80907478 0.51119032\n",
      "        nan        nan        nan        nan 0.86849061        nan\n",
      " 0.81244167 0.51198255 0.51020006        nan 0.51020006 0.51020006\n",
      " 0.57952252        nan 0.51020006 0.51020006 0.86928261        nan\n",
      " 0.80907478 0.51119032        nan        nan        nan        nan\n",
      " 0.91721219        nan 0.91939049 0.90334868 0.91721219        nan\n",
      " 0.91939049 0.90334868 0.90651684        nan 0.89245406 0.88611704\n",
      " 0.91840023        nan 0.91780625 0.90295272        nan        nan\n",
      "        nan        nan 0.91721219        nan 0.91939049 0.90334868\n",
      " 0.79580204        nan 0.74509862 0.55218857 0.90651684        nan\n",
      " 0.89245406 0.88611704 0.91840023        nan 0.91780625 0.90295272\n",
      "        nan        nan        nan        nan 0.91721219        nan\n",
      " 0.91939049 0.90334868 0.65656635        nan 0.5420869  0.51713216\n",
      " 0.90651684        nan 0.89245406 0.88611704 0.91840023        nan\n",
      " 0.91780625 0.90295272        nan        nan        nan        nan\n",
      " 0.92097511        nan 0.9223611  0.90414053 0.92097511        nan\n",
      " 0.9223611  0.90414053 0.91463715        nan 0.90215923 0.89403916\n",
      " 0.90790306        nan 0.92493575 0.90513031        nan        nan\n",
      "        nan        nan 0.92097511        nan 0.9223611  0.90414053\n",
      " 0.80590294        nan 0.77421443 0.5704111  0.91463715        nan\n",
      " 0.90215923 0.89403916 0.90790306        nan 0.92493575 0.90513031\n",
      "        nan        nan        nan        nan 0.92097511        nan\n",
      " 0.9223611  0.90414053 0.6710247         nan 0.56605239 0.51911276\n",
      " 0.91463715        nan 0.90215923 0.89403916 0.90790306        nan\n",
      " 0.92493575 0.90513031        nan        nan        nan        nan\n",
      " 0.92097511        nan 0.9223611  0.90374449 0.92097511        nan\n",
      " 0.9223611  0.90374449 0.91463715        nan 0.90215923 0.89403916\n",
      " 0.90711075        nan 0.92493575 0.90453625        nan        nan\n",
      "        nan        nan 0.92097511        nan 0.9223611  0.90374449\n",
      " 0.80590294        nan 0.77421443 0.56090615 0.91463715        nan\n",
      " 0.90215923 0.89403916 0.90711075        nan 0.92493575 0.90453625\n",
      "        nan        nan        nan        nan 0.92097511        nan\n",
      " 0.9223611  0.90374449 0.6710247         nan 0.56605239 0.51772662\n",
      " 0.91463715        nan 0.90215923 0.89403916 0.90711075        nan\n",
      " 0.92493575 0.90453625        nan        nan        nan        nan]\n",
      "  warnings.warn(\n"
     ]
    },
    {
     "data": {
      "text/plain": [
       "0.9477818853974121"
      ]
     },
     "execution_count": 157,
     "metadata": {},
     "output_type": "execute_result"
    }
   ],
   "source": [
    "grid_svc_tf = {\n",
    "    \"tfidfvectorizer__ngram_range\": ((1,1), (2,1), (1,2), (2,2)),\n",
    "    \"svc__degree\": (1, 3, 5),\n",
    "    \"svc__C\": (0.1,1,10, 50),\n",
    "    \"svc__kernel\": (\"linear\", \"poly\", \"rbf\", \"sigmoid\", \"precomputed\")\n",
    "}\n",
    "\n",
    "search_svc = GridSearchCV(\n",
    "    pipe_svc_tf,\n",
    "    grid_svc_tf,\n",
    "    scoring=\"accuracy\",\n",
    "    cv =2,\n",
    "    n_jobs=26\n",
    ")\n",
    "\n",
    "search_svc.fit(X_train,y_train)\n",
    "search_svc.best_score_\n",
    "search_svc.best_params_\n",
    "y_pred = search_svc.predict(X_test)\n",
    "\n",
    "test_accuracy = accuracy_score(y_test, y_pred)\n",
    "test_accuracy"
   ]
  },
  {
   "cell_type": "markdown",
   "id": "d0fbb7e4",
   "metadata": {},
   "source": [
    "Random Forest"
   ]
  },
  {
   "cell_type": "code",
   "execution_count": null,
   "id": "1b53d2a1",
   "metadata": {},
   "outputs": [
    {
     "data": {
      "text/plain": [
       "{'memory': None,\n",
       " 'steps': [('tfidfvectorizer', TfidfVectorizer()),\n",
       "  ('randomforestclassifier', RandomForestClassifier())],\n",
       " 'verbose': False,\n",
       " 'tfidfvectorizer': TfidfVectorizer(),\n",
       " 'randomforestclassifier': RandomForestClassifier(),\n",
       " 'tfidfvectorizer__analyzer': 'word',\n",
       " 'tfidfvectorizer__binary': False,\n",
       " 'tfidfvectorizer__decode_error': 'strict',\n",
       " 'tfidfvectorizer__dtype': numpy.float64,\n",
       " 'tfidfvectorizer__encoding': 'utf-8',\n",
       " 'tfidfvectorizer__input': 'content',\n",
       " 'tfidfvectorizer__lowercase': True,\n",
       " 'tfidfvectorizer__max_df': 1.0,\n",
       " 'tfidfvectorizer__max_features': None,\n",
       " 'tfidfvectorizer__min_df': 1,\n",
       " 'tfidfvectorizer__ngram_range': (1, 1),\n",
       " 'tfidfvectorizer__norm': 'l2',\n",
       " 'tfidfvectorizer__preprocessor': None,\n",
       " 'tfidfvectorizer__smooth_idf': True,\n",
       " 'tfidfvectorizer__stop_words': None,\n",
       " 'tfidfvectorizer__strip_accents': None,\n",
       " 'tfidfvectorizer__sublinear_tf': False,\n",
       " 'tfidfvectorizer__token_pattern': '(?u)\\\\b\\\\w\\\\w+\\\\b',\n",
       " 'tfidfvectorizer__tokenizer': None,\n",
       " 'tfidfvectorizer__use_idf': True,\n",
       " 'tfidfvectorizer__vocabulary': None,\n",
       " 'randomforestclassifier__bootstrap': True,\n",
       " 'randomforestclassifier__ccp_alpha': 0.0,\n",
       " 'randomforestclassifier__class_weight': None,\n",
       " 'randomforestclassifier__criterion': 'gini',\n",
       " 'randomforestclassifier__max_depth': None,\n",
       " 'randomforestclassifier__max_features': 'sqrt',\n",
       " 'randomforestclassifier__max_leaf_nodes': None,\n",
       " 'randomforestclassifier__max_samples': None,\n",
       " 'randomforestclassifier__min_impurity_decrease': 0.0,\n",
       " 'randomforestclassifier__min_samples_leaf': 1,\n",
       " 'randomforestclassifier__min_samples_split': 2,\n",
       " 'randomforestclassifier__min_weight_fraction_leaf': 0.0,\n",
       " 'randomforestclassifier__monotonic_cst': None,\n",
       " 'randomforestclassifier__n_estimators': 100,\n",
       " 'randomforestclassifier__n_jobs': None,\n",
       " 'randomforestclassifier__oob_score': False,\n",
       " 'randomforestclassifier__random_state': None,\n",
       " 'randomforestclassifier__verbose': 0,\n",
       " 'randomforestclassifier__warm_start': False}"
      ]
     },
     "execution_count": 39,
     "metadata": {},
     "output_type": "execute_result"
    }
   ],
   "source": [
    "# RandomForestClassifier\n",
    "\n",
    "pipe_rf_tf = make_pipeline(TfidfVectorizer(),RandomForestClassifier())\n",
    "\n",
    "pipe_rf_tf.get_params()\n"
   ]
  },
  {
   "cell_type": "code",
   "execution_count": null,
   "id": "c4648638",
   "metadata": {},
   "outputs": [],
   "source": [
    "gird_rf_tf = {\n",
    "    \"tfidfvectorizer__ngram_range\": ((1,1), (2,1), (1,2), (2,2)),\n",
    "    \"randomforestclassifier__n_estimators\": (50, 100, 500, 1000),\n",
    "    \"randomforestclassifier__criterion\": (\"gini\", \"entropy\", \"log_loss\")\n",
    "}\n",
    "\n",
    "search_rf = GridSearchCV(pipe_rf_tf,gird_rf_tf, scoring = \"accuracy\", cv =5, n_jobs=-1)\n",
    "search_rf.fit(X_train,y_train)\n",
    "search_rf.best_score_\n",
    "\n",
    "search_rf.best_params_\n",
    "y_pred = search_rf.predict(X_test)\n",
    "\n",
    "test_accuracy = accuracy_score(y_test, y_pred)\n",
    "test_accuracy"
   ]
  }
 ],
 "metadata": {
  "kernelspec": {
   "display_name": "Python 3 (ipykernel)",
   "language": "python",
   "name": "python3"
  },
  "language_info": {
   "codemirror_mode": {
    "name": "ipython",
    "version": 3
   },
   "file_extension": ".py",
   "mimetype": "text/x-python",
   "name": "python",
   "nbconvert_exporter": "python",
   "pygments_lexer": "ipython3",
   "version": "3.12.3"
  },
  "toc": {
   "base_numbering": 1,
   "nav_menu": {},
   "number_sections": true,
   "sideBar": true,
   "skip_h1_title": false,
   "title_cell": "Table of Contents",
   "title_sidebar": "Contents",
   "toc_cell": false,
   "toc_position": {},
   "toc_section_display": true,
   "toc_window_display": false
  }
 },
 "nbformat": 4,
 "nbformat_minor": 5
}
