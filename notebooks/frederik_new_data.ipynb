{
 "cells": [
  {
   "cell_type": "code",
   "execution_count": 1,
   "metadata": {},
   "outputs": [],
   "source": [
    "import pandas as pd\n",
    "from sklearn.feature_extraction.text import TfidfVectorizer\n",
    "from matplotlib.pylab import plt\n",
    "import numpy as np\n",
    "\n",
    "\n",
    "import string\n",
    "from nltk.corpus import stopwords\n",
    "from nltk import word_tokenize\n",
    "from nltk.stem import WordNetLemmatizer\n",
    "from sklearn.metrics import accuracy_score\n",
    "\n",
    "from sklearn.model_selection import train_test_split\n",
    "\n",
    "from sklearn.pipeline import make_pipeline\n",
    "from sklearn.feature_extraction.text import CountVectorizer\n",
    "from sklearn.naive_bayes import MultinomialNB\n",
    "from sklearn.model_selection import GridSearchCV\n",
    "from sklearn.model_selection import cross_val_score\n",
    "\n",
    "from sklearn.ensemble import RandomForestClassifier\n",
    "\n",
    "\n",
    "from sklearn.svm import SVC\n",
    "from sklearn.linear_model import LogisticRegression\n",
    "\n",
    "from cybnews.data import get_data, welf_join_text, welf_join_text, welf_preprocessing, cc_preprocessing, join_text\n",
    "\n",
    "from cybnews.model import train_test_split_data, create_new_model, save_model, load_model\n",
    "#from wordcloud import WordCloud\n",
    "from collections import Counter\n"
   ]
  },
  {
   "cell_type": "code",
   "execution_count": 2,
   "metadata": {},
   "outputs": [
    {
     "name": "stderr",
     "output_type": "stream",
     "text": [
      "/Users/admin/.pyenv/versions/cybnews/lib/python3.10/site-packages/cybnews/data.py:84: FutureWarning: Downcasting behavior in `replace` is deprecated and will be removed in a future version. To retain the old behavior, explicitly call `result.infer_objects(copy=False)`. To opt-in to the future behavior, set `pd.set_option('future.no_silent_downcasting', True)`\n",
      "  data[\"label\"] = data.label.replace(to_replace=['REAL', 'FAKE'], value=[0, 1])\n"
     ]
    }
   ],
   "source": [
    "cc_data = get_data('/Users/admin/code/frederiklm/cyb-news/data/fake_news.csv')\n",
    "cc_data = join_text(cc_data)\n",
    "cc_data = cc_preprocessing(cc_data)"
   ]
  },
  {
   "cell_type": "code",
   "execution_count": null,
   "metadata": {},
   "outputs": [],
   "source": [
    "cc_data = get_data('/Users/admin/code/frederiklm/cyb-news/data/fake_news.csv')\n",
    "\n",
    "\n",
    "cc_data = cc_data.sample(frac=0.3, random_state=42)\n"
   ]
  },
  {
   "cell_type": "code",
   "execution_count": null,
   "metadata": {},
   "outputs": [
    {
     "data": {
      "text/plain": [
       "Unnamed: 0    False\n",
       "title         False\n",
       "text          False\n",
       "label         False\n",
       "dtype: bool"
      ]
     },
     "execution_count": 21,
     "metadata": {},
     "output_type": "execute_result"
    }
   ],
   "source": [
    "\"\"\"duplicateRows = cc_data[cc_data.duplicated()]\n",
    "\n",
    "duplicateRows.shape\n",
    "cc_data.isnull().any()\"\"\""
   ]
  },
  {
   "cell_type": "code",
   "execution_count": null,
   "metadata": {},
   "outputs": [],
   "source": [
    "cc_data.head()\n",
    "\n",
    "\n",
    "data_joined =  welf_join_text(cc_data)\n",
    "\n",
    "\n",
    "data_preprocessed =  welf_preprocessing(data_joined)\n"
   ]
  },
  {
   "cell_type": "code",
   "execution_count": null,
   "metadata": {},
   "outputs": [
    {
     "name": "stderr",
     "output_type": "stream",
     "text": [
      "/var/folders/vb/j6r9nmvd7wq9j9wfx06znrj80000gn/T/ipykernel_1117/3649499636.py:1: FutureWarning: Downcasting behavior in `replace` is deprecated and will be removed in a future version. To retain the old behavior, explicitly call `result.infer_objects(copy=False)`. To opt-in to the future behavior, set `pd.set_option('future.no_silent_downcasting', True)`\n",
      "  data_preprocessed[\"label\"] = data_preprocessed.label.replace(to_replace=['REAL', 'FAKE'], value=[0, 1])\n",
      "/var/folders/vb/j6r9nmvd7wq9j9wfx06znrj80000gn/T/ipykernel_1117/3649499636.py:1: SettingWithCopyWarning: \n",
      "A value is trying to be set on a copy of a slice from a DataFrame.\n",
      "Try using .loc[row_indexer,col_indexer] = value instead\n",
      "\n",
      "See the caveats in the documentation: https://pandas.pydata.org/pandas-docs/stable/user_guide/indexing.html#returning-a-view-versus-a-copy\n",
      "  data_preprocessed[\"label\"] = data_preprocessed.label.replace(to_replace=['REAL', 'FAKE'], value=[0, 1])\n"
     ]
    }
   ],
   "source": [
    "data_preprocessed[\"label\"] = data_preprocessed.label.replace(to_replace=['REAL', 'FAKE'], value=[0, 1])"
   ]
  },
  {
   "cell_type": "code",
   "execution_count": null,
   "metadata": {},
   "outputs": [
    {
     "data": {
      "text/html": [
       "<div>\n",
       "<style scoped>\n",
       "    .dataframe tbody tr th:only-of-type {\n",
       "        vertical-align: middle;\n",
       "    }\n",
       "\n",
       "    .dataframe tbody tr th {\n",
       "        vertical-align: top;\n",
       "    }\n",
       "\n",
       "    .dataframe thead th {\n",
       "        text-align: right;\n",
       "    }\n",
       "</style>\n",
       "<table border=\"1\" class=\"dataframe\">\n",
       "  <thead>\n",
       "    <tr style=\"text-align: right;\">\n",
       "      <th></th>\n",
       "      <th>all_text_cleaned</th>\n",
       "      <th>label</th>\n",
       "    </tr>\n",
       "  </thead>\n",
       "  <tbody>\n",
       "    <tr>\n",
       "      <th>0</th>\n",
       "      <td>smell hillary fear daniel greenfield shillman ...</td>\n",
       "      <td>1</td>\n",
       "    </tr>\n",
       "    <tr>\n",
       "      <th>1</th>\n",
       "      <td>watch exact moment paul ryan commit political ...</td>\n",
       "      <td>1</td>\n",
       "    </tr>\n",
       "    <tr>\n",
       "      <th>2</th>\n",
       "      <td>kerry go paris gesture sympathy u secretary st...</td>\n",
       "      <td>0</td>\n",
       "    </tr>\n",
       "    <tr>\n",
       "      <th>3</th>\n",
       "      <td>bernie supporter twitter erupt anger against d...</td>\n",
       "      <td>1</td>\n",
       "    </tr>\n",
       "    <tr>\n",
       "      <th>4</th>\n",
       "      <td>battle new york primary matter primary day new...</td>\n",
       "      <td>0</td>\n",
       "    </tr>\n",
       "  </tbody>\n",
       "</table>\n",
       "</div>"
      ],
      "text/plain": [
       "                                    all_text_cleaned  label\n",
       "0  smell hillary fear daniel greenfield shillman ...      1\n",
       "1  watch exact moment paul ryan commit political ...      1\n",
       "2  kerry go paris gesture sympathy u secretary st...      0\n",
       "3  bernie supporter twitter erupt anger against d...      1\n",
       "4  battle new york primary matter primary day new...      0"
      ]
     },
     "execution_count": 19,
     "metadata": {},
     "output_type": "execute_result"
    }
   ],
   "source": [
    "data_preprocessed.head()"
   ]
  },
  {
   "cell_type": "code",
   "execution_count": null,
   "metadata": {},
   "outputs": [],
   "source": [
    "#Import pipepline\n",
    "\n",
    "\n",
    "y_pred = pipeline.predict(data_preprocessed[\"all_text_cleaned\"])\n",
    "test_accuracy = accuracy_score(data_preprocessed[\"label\"], y_pred)\n",
    "test_accuracy\n",
    "\n",
    "\n",
    "#0.9378947368421052"
   ]
  }
 ],
 "metadata": {
  "kernelspec": {
   "display_name": "cybnews",
   "language": "python",
   "name": "python3"
  },
  "language_info": {
   "codemirror_mode": {
    "name": "ipython",
    "version": 3
   },
   "file_extension": ".py",
   "mimetype": "text/x-python",
   "name": "python",
   "nbconvert_exporter": "python",
   "pygments_lexer": "ipython3",
   "version": "3.10.6"
  }
 },
 "nbformat": 4,
 "nbformat_minor": 2
}
