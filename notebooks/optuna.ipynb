{
 "cells": [
  {
   "cell_type": "code",
   "execution_count": 1,
   "metadata": {},
   "outputs": [
    {
     "name": "stdout",
     "output_type": "stream",
     "text": [
      "   number     value             datetime_start          datetime_complete  \\\n",
      "0       0  0.774829 2024-07-22 19:02:32.154326 2024-07-22 19:23:38.953052   \n",
      "1       1       NaN 2024-07-22 19:23:38.996778                        NaT   \n",
      "\n",
      "                duration  params_deep_layers  params_gru_layers  \\\n",
      "0 0 days 00:21:06.798726                   0                  0   \n",
      "1                    NaT                   0                  0   \n",
      "\n",
      "   params_gru_units  params_spatial_dropout_rate     state  \n",
      "0               366                     0.304888  COMPLETE  \n",
      "1               419                     0.349772   RUNNING  \n"
     ]
    }
   ],
   "source": [
    "import optuna\n",
    "\n",
    "study = optuna.load_study(\n",
    "  study_name=\"2024-07-22_19:02:32\",\n",
    "  storage='sqlite:///optuna_study.db',\n",
    ")\n",
    "print(study.trials_dataframe())"
   ]
  },
  {
   "cell_type": "code",
   "execution_count": null,
   "metadata": {},
   "outputs": [],
   "source": []
  }
 ],
 "metadata": {
  "kernelspec": {
   "display_name": "lewagon",
   "language": "python",
   "name": "python3"
  },
  "language_info": {
   "codemirror_mode": {
    "name": "ipython",
    "version": 3
   },
   "file_extension": ".py",
   "mimetype": "text/x-python",
   "name": "python",
   "nbconvert_exporter": "python",
   "pygments_lexer": "ipython3",
   "version": "3.10.6"
  }
 },
 "nbformat": 4,
 "nbformat_minor": 2
}
