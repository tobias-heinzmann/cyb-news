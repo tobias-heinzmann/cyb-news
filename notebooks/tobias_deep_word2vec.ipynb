{
 "cells": [
  {
   "cell_type": "code",
   "execution_count": 1,
   "id": "bca0d9b8",
   "metadata": {},
   "outputs": [],
   "source": [
    "import os\n",
    "import string\n",
    "import pandas as pd\n",
    "import numpy as np\n",
    "from matplotlib.pylab import plt\n",
    "import nltk\n",
    "\n",
    "from gensim.models import Word2Vec\n",
    "from tensorflow.keras.preprocessing.sequence import pad_sequences\n",
    "from tensorflow.keras.initializers import GlorotUniform\n",
    "from tensorflow.keras.optimizers import Adam\n",
    "\n",
    "from sklearn.model_selection import train_test_split, GridSearchCV, cross_val_score\n",
    "from sklearn.pipeline import make_pipeline\n",
    "\n",
    "from tensorflow.keras.preprocessing.text import one_hot, Tokenizer\n",
    "from tensorflow.keras.preprocessing.sequence import pad_sequences\n",
    "\n",
    "#from scikeras.wrappers import KerasClassifier\n",
    "from tensorflow.keras.wrappers.scikit_learn import KerasClassifier\n",
    "\n",
    "from tensorflow.keras.callbacks import EarlyStopping\n",
    "from tensorflow.keras.models import Sequential\n",
    "from tensorflow.keras.layers import Dense, LSTM, Embedding, Dropout, SpatialDropout1D\n",
    "\n",
    "\n",
    "import optuna\n",
    "from tensorflow.keras.preprocessing.sequence import pad_sequences\n",
    "from sklearn.preprocessing import LabelEncoder\n",
    "from sklearn.model_selection import train_test_split\n",
    "from tensorflow.keras.datasets import imdb\n",
    "\n",
    "from cybnews.data import get_data, welf_join_text\n",
    "\n",
    "\n",
    "os.environ['TF_CPP_MIN_LOG_LEVEL'] = '1'\n",
    "os.environ['TF_GPU_ALLOCATOR'] = 'cuda_malloc_async'"
   ]
  },
  {
   "cell_type": "code",
   "execution_count": 2,
   "id": "c4da8ded",
   "metadata": {},
   "outputs": [
    {
     "name": "stdout",
     "output_type": "stream",
     "text": [
      "Num GPUs Available:  1\n"
     ]
    }
   ],
   "source": [
    "import tensorflow as tf\n",
    "print(\"Num GPUs Available: \", len(tf.config.experimental.list_physical_devices('GPU')))\n",
    "\n",
    "gpus = tf.config.experimental.list_physical_devices('GPU')\n",
    "if gpus:\n",
    "    try:\n",
    "        for gpu in gpus:\n",
    "            tf.config.experimental.set_memory_growth(gpu, True)\n",
    "    except RuntimeError as e:\n",
    "        print(e)"
   ]
  },
  {
   "cell_type": "code",
   "execution_count": 3,
   "id": "ce3fac2b",
   "metadata": {},
   "outputs": [],
   "source": [
    "# WELF dataset\n",
    "#\n",
    "#\n",
    "DATA_PATH = '/home/tober/devel/lewagon/project/cyb-news/data'\n",
    "data = welf_join_text(get_data(f'{DATA_PATH}/WELFake_Dataset.csv'))[['all_text', 'label']]\n",
    "data = data.sample(frac=0.1, random_state=42)"
   ]
  },
  {
   "cell_type": "code",
   "execution_count": 4,
   "id": "53da12de",
   "metadata": {},
   "outputs": [],
   "source": [
    "def clean(sentence):\n",
    "    sentence = sentence.strip()\n",
    "    sentence = sentence.lower()\n",
    "    sentence = ''.join(char for char in sentence if not char.isdigit())\n",
    "    \n",
    "    for x in string.punctuation:\n",
    "        sentence = sentence.replace(x, '')\n",
    "\n",
    "    for x in ['’', '“', '”', '-', '\"' ]:\n",
    "        sentence = sentence.replace(x, '')\n",
    "    return sentence\n",
    "\n",
    "data[\"all_text_cleaned\"] = data[\"all_text\"].apply(clean)"
   ]
  },
  {
   "cell_type": "code",
   "execution_count": 5,
   "id": "3348a075",
   "metadata": {},
   "outputs": [
    {
     "name": "stdout",
     "output_type": "stream",
     "text": [
      "max_seq_length: 500\n"
     ]
    }
   ],
   "source": [
    "max_seq_length = 500  # Maximum sequence length\n",
    "print(f'max_seq_length: {max_seq_length}')"
   ]
  },
  {
   "cell_type": "code",
   "execution_count": 6,
   "id": "d5cf41b5",
   "metadata": {},
   "outputs": [],
   "source": [
    "X = data.all_text_cleaned\n",
    "y = data.label\n",
    "\n",
    "X_train, X_test, y_train, y_test = train_test_split(\n",
    "    X,\n",
    "    y,\n",
    "    test_size=0.3,\n",
    "    random_state=42\n",
    ")\n",
    "\n",
    "tokenizer = Tokenizer()\n",
    "tokenizer.fit_on_texts(X_train)\n",
    "\n",
    "X_train_tokenized = tokenizer.texts_to_sequences(X_train)\n",
    "X_test_tokenized = tokenizer.texts_to_sequences(X_test)\n",
    "\n",
    "X_train_padded = pad_sequences(X_train_tokenized, maxlen=max_seq_length, dtype='float32', padding='pre', value=0)\n",
    "X_test_padded = pad_sequences(X_test_tokenized, maxlen=max_seq_length, dtype='float32', padding='pre', value=0)\n",
    "\n"
   ]
  },
  {
   "cell_type": "code",
   "execution_count": 7,
   "id": "e7823f65",
   "metadata": {},
   "outputs": [
    {
     "name": "stdout",
     "output_type": "stream",
     "text": [
      "(5049, 500)\n",
      "(5049,)\n"
     ]
    }
   ],
   "source": [
    "print(X_train_padded.shape)\n",
    "print(y_train.shape)"
   ]
  },
  {
   "cell_type": "code",
   "execution_count": 8,
   "id": "7e5c51a7",
   "metadata": {},
   "outputs": [
    {
     "name": "stdout",
     "output_type": "stream",
     "text": [
      "vocab_size: 82829\n"
     ]
    }
   ],
   "source": [
    "vocab_size = len(tokenizer.index_word) + 1  # also num of features\n",
    "print(f'vocab_size: {vocab_size}')"
   ]
  },
  {
   "cell_type": "code",
   "execution_count": 9,
   "id": "dd3b2d8c",
   "metadata": {},
   "outputs": [],
   "source": [
    "vector_size = 50\n",
    "window_size = 5\n",
    "\n",
    "word2vec_model = Word2Vec(sentences=X, vector_size=vector_size, window=window_size, min_count=1, workers=4)\n",
    "\n",
    "embedding_matrix = np.zeros((vocab_size, word2vec_model.vector_size))\n",
    "for word, i in tokenizer.word_index.items():\n",
    "    if word in word2vec_model.wv:\n",
    "        embedding_matrix[i] = word2vec_model.wv[word]"
   ]
  },
  {
   "cell_type": "code",
   "execution_count": 14,
   "id": "2d3fa8dd",
   "metadata": {},
   "outputs": [
    {
     "name": "stderr",
     "output_type": "stream",
     "text": [
      "/tmp/ipykernel_65176/4262228137.py:16: DeprecationWarning: KerasClassifier is deprecated, use Sci-Keras (https://github.com/adriangb/scikeras) instead. See https://www.adriangb.com/scikeras/stable/migration.html for help migrating.\n",
      "  model = KerasClassifier(build_fn=create_model, verbose=1)\n"
     ]
    }
   ],
   "source": [
    "def create_model(units=50, neurons=50, dropout_rate=0.2):#, learning_rate=0.001):\n",
    "    model = Sequential([\n",
    "        Embedding(input_dim=vocab_size, output_dim=word2vec_model.vector_size, weights=[embedding_matrix], input_length=max_seq_length, trainable=False),\n",
    "        #SpatialDropout1D(dropout_rate),\n",
    "        #LSTM(units, dropout=dropout_rate, recurrent_dropout=dropout_rate),\n",
    "        SimpleRNN(units=units, return_sequences = True),\n",
    "        SimpleRNN(units=units, activation='tanh'),\n",
    "        Dense(neurons, activation='relu'),\n",
    "        Dense(1, activation='sigmoid', kernel_initializer=GlorotUniform())\n",
    "    ])\n",
    "    optimizer = Adam()#learning_rate=learning_rate, clipvalue=1.0)\n",
    "    model.compile(optimizer=optimizer, loss='binary_crossentropy', metrics=['accuracy'])\n",
    "    #model.summary()\n",
    "    return model\n",
    "\n",
    "model = KerasClassifier(build_fn=create_model, verbose=1)\n",
    "\n",
    "param_grid = {\n",
    "    'units': [20],\n",
    "    'neurons': [12, 24],\n",
    "    'dropout_rate': [0.1, 0.3],\n",
    "    'batch_size': [6, 8],\n",
    "    'epochs': [5, 10],\n",
    "    #'learning_rate': [0.001, 0.01],\n",
    "}\n",
    "\n",
    "grid = GridSearchCV(\n",
    "    estimator=model,\n",
    "    param_grid=param_grid,\n",
    "    n_jobs=28,\n",
    "    cv=1,\n",
    "    scoring='accuracy',\n",
    "    verbose=3,\n",
    "    error_score=\"raise\",\n",
    ")\n",
    "\n",
    "\n",
    "#grid_result = grid.fit(X_train_padded, y_train, validation_split=0.2)\n",
    "# print(f\"Best: {grid_result.best_score_} using {grid_result.best_params_}\")\n",
    "\n",
    "# best_model = grid_result.best_estimator_.model\n",
    "# loss, accuracy = best_model.evaluate(X_test, y_test)\n",
    "# print(f\"Test Accuracy: {accuracy:.2f}\")\n",
    "\n",
    "# best_model.model.save('best_model.h5')"
   ]
  },
  {
   "cell_type": "code",
   "execution_count": 18,
   "id": "83970d52",
   "metadata": {},
   "outputs": [
    {
     "name": "stdout",
     "output_type": "stream",
     "text": [
      "127/127 [==============================] - 39s 299ms/step - loss: 0.6769 - accuracy: 0.5769 - val_loss: 0.6765 - val_accuracy: 0.5941\n"
     ]
    },
    {
     "data": {
      "text/plain": [
       "<keras.callbacks.History at 0x7e25c5672920>"
      ]
     },
     "execution_count": 18,
     "metadata": {},
     "output_type": "execute_result"
    }
   ],
   "source": [
    "#def create_model(units=100, neurons=50, dropout_rate=0.2, learning_rate=0.001)\n",
    "\n",
    "# param_grid = {\n",
    "#     'units': [20],\n",
    "#     'neurons': [12, 24],\n",
    "#     'dropout_rate': [0.1, 0.3],\n",
    "#     'batch_size': [6, 8],\n",
    "#     'epochs': [5, 10],\n",
    "#     #'learning_rate': [0.001, 0.01],\n",
    "# }\n",
    "\n",
    "manual_model = create_model(units=20)\n",
    "manual_model.fit(X_train_padded, y_train, validation_split=0.2)"
   ]
  },
  {
   "cell_type": "markdown",
   "id": "98db6641",
   "metadata": {},
   "source": []
  },
  {
   "cell_type": "code",
   "execution_count": null,
   "id": "cf09b091",
   "metadata": {},
   "outputs": [],
   "source": []
  }
 ],
 "metadata": {
  "kernelspec": {
   "display_name": "Python 3 (ipykernel)",
   "language": "python",
   "name": "python3"
  },
  "language_info": {
   "codemirror_mode": {
    "name": "ipython",
    "version": 3
   },
   "file_extension": ".py",
   "mimetype": "text/x-python",
   "name": "python",
   "nbconvert_exporter": "python",
   "pygments_lexer": "ipython3",
   "version": "3.10.6"
  },
  "toc": {
   "base_numbering": 1,
   "nav_menu": {},
   "number_sections": true,
   "sideBar": true,
   "skip_h1_title": false,
   "title_cell": "Table of Contents",
   "title_sidebar": "Contents",
   "toc_cell": false,
   "toc_position": {},
   "toc_section_display": true,
   "toc_window_display": false
  }
 },
 "nbformat": 4,
 "nbformat_minor": 5
}
