{
 "cells": [
  {
   "cell_type": "code",
   "execution_count": 19,
   "id": "bca0d9b8",
   "metadata": {},
   "outputs": [],
   "source": [
    "import string\n",
    "import pandas as pd\n",
    "import numpy as np\n",
    "from matplotlib.pylab import plt\n",
    "\n",
    "from sklearn.model_selection import train_test_split\n",
    "\n",
    "from tensorflow.keras import models, layers\n",
    "from tensorflow.keras.preprocessing.text import one_hot, Tokenizer\n",
    "from tensorflow.keras.preprocessing.sequence import pad_sequences\n",
    "\n",
    "\n",
    "from cybnews.data import get_data, welf_join_text"
   ]
  },
  {
   "cell_type": "code",
   "execution_count": 20,
   "id": "ce3fac2b",
   "metadata": {},
   "outputs": [],
   "source": [
    "# WELF\n",
    "#\n",
    "# 0 = real\n",
    "# 1 = fake\n",
    "#\n",
    "DATA_PATH = '/home/tober/devel/lewagon/project/cyb-news/data'\n",
    "data = welf_join_text(get_data(f'{DATA_PATH}/WELFake_Dataset.csv'))[['all_text', 'label']]"
   ]
  },
  {
   "cell_type": "code",
   "execution_count": 21,
   "id": "53da12de",
   "metadata": {},
   "outputs": [],
   "source": [
    "def clean(sentence):\n",
    "    sentence = sentence.strip()\n",
    "    sentence = sentence.lower()\n",
    "    sentence = ''.join(char for char in sentence if not char.isdigit())\n",
    "    \n",
    "    for x in string.punctuation:\n",
    "        sentence = sentence.replace(x, '')\n",
    "\n",
    "    for x in ['’', '“', '”', '-', '\"' ]:\n",
    "        sentence = sentence.replace(x, '')\n",
    "    return sentence\n",
    "\n",
    "data[\"all_text_cleaned\"] = data[\"all_text\"].apply(clean)"
   ]
  },
  {
   "cell_type": "code",
   "execution_count": 22,
   "id": "50216ecf",
   "metadata": {},
   "outputs": [],
   "source": [
    "max_len = 3000  # Maximum sequence length"
   ]
  },
  {
   "cell_type": "code",
   "execution_count": 23,
   "id": "d5cf41b5",
   "metadata": {},
   "outputs": [],
   "source": [
    "X = data.all_text_cleaned\n",
    "y = data.label\n",
    "\n",
    "X_train, X_test, y_train, y_test = train_test_split(\n",
    "    X,\n",
    "    y,\n",
    "    test_size=0.5,\n",
    "    random_state=42\n",
    ")\n",
    "\n",
    "tk = Tokenizer()\n",
    "tk.fit_on_texts(X_train)\n",
    "\n",
    "X_train_token = tk.texts_to_sequences(X_train)\n",
    "X_test_token = tk.texts_to_sequences(X_test)\n",
    "\n",
    "X_train_padded = pad_sequences(X_train_token, maxlen=max_len, dtype='float32', padding='pre', value=0)\n",
    "X_test_padded = pad_sequences(X_test_token, maxlen=max_len, dtype='float32', padding='pre', value=0)"
   ]
  },
  {
   "cell_type": "code",
   "execution_count": 24,
   "id": "7e5c51a7",
   "metadata": {},
   "outputs": [],
   "source": [
    "num_words = len(tk.index_word) + 1  # also num of features"
   ]
  },
  {
   "cell_type": "code",
   "execution_count": 25,
   "id": "3af07a76",
   "metadata": {},
   "outputs": [
    {
     "name": "stdout",
     "output_type": "stream",
     "text": [
      "1128/1128 [==============================] - 3157s 3s/step - loss: 0.2886 - accuracy: 0.8900\n"
     ]
    }
   ],
   "source": [
    "embedding_dim = 16\n",
    "\n",
    "def simple_model(X, y):\n",
    "    \n",
    "    model = models.Sequential()\n",
    "    model.add(\n",
    "        layers.Embedding(\n",
    "            input_dim=num_words,\n",
    "            output_dim=embedding_dim,\n",
    "            input_length=max_len,\n",
    "            mask_zero=True\n",
    "        )\n",
    "    )\n",
    "    \n",
    "    model.add(layers.LSTM(embedding_dim))\n",
    "    model.add(layers.Dense(1, activation='sigmoid'))\n",
    "\n",
    "    model.compile(loss='binary_crossentropy', optimizer='adam', metrics=['accuracy'])\n",
    "    model.fit(X, y, verbose=1)\n",
    "\n",
    "    return model\n",
    "\n",
    "m = simple_model(X_train_padded, y_train)"
   ]
  },
  {
   "cell_type": "code",
   "execution_count": 35,
   "id": "f29e6926",
   "metadata": {},
   "outputs": [
    {
     "name": "stdout",
     "output_type": "stream",
     "text": [
      "564/564 [==============================] - 154s 272ms/step - loss: 0.1791 - accuracy: 0.9364\n"
     ]
    }
   ],
   "source": [
    "def evaluate_model(model, X, y, batch_size=64):\n",
    "    metrics = model.evaluate(\n",
    "        x=X,\n",
    "        y=y,\n",
    "        batch_size=batch_size,\n",
    "        verbose=1,\n",
    "        callbacks=None,\n",
    "        return_dict=True\n",
    "    )\n",
    "    return metrics\n",
    "\n",
    "metrics = evaluate_model(m, X_test_padded, y_test)"
   ]
  }
 ],
 "metadata": {
  "kernelspec": {
   "display_name": "Python 3 (ipykernel)",
   "language": "python",
   "name": "python3"
  },
  "language_info": {
   "codemirror_mode": {
    "name": "ipython",
    "version": 3
   },
   "file_extension": ".py",
   "mimetype": "text/x-python",
   "name": "python",
   "nbconvert_exporter": "python",
   "pygments_lexer": "ipython3",
   "version": "3.10.6"
  },
  "toc": {
   "base_numbering": 1,
   "nav_menu": {},
   "number_sections": true,
   "sideBar": true,
   "skip_h1_title": false,
   "title_cell": "Table of Contents",
   "title_sidebar": "Contents",
   "toc_cell": false,
   "toc_position": {},
   "toc_section_display": true,
   "toc_window_display": false
  }
 },
 "nbformat": 4,
 "nbformat_minor": 5
}
