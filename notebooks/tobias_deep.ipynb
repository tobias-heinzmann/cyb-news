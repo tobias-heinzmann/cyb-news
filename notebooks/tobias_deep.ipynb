{
 "cells": [
  {
   "cell_type": "code",
   "execution_count": 1,
   "id": "bca0d9b8",
   "metadata": {},
   "outputs": [],
   "source": [
    "import os\n",
    "import string\n",
    "import pandas as pd\n",
    "import numpy as np\n",
    "from matplotlib.pylab import plt\n",
    "\n",
    "from sklearn.model_selection import train_test_split, GridSearchCV, cross_val_score\n",
    "from sklearn.pipeline import make_pipeline\n",
    "\n",
    "from tensorflow.keras import models, layers\n",
    "from tensorflow.keras.preprocessing.text import one_hot, Tokenizer\n",
    "from tensorflow.keras.preprocessing.sequence import pad_sequences\n",
    "\n",
    "#from scikeras.wrappers import KerasClassifier\n",
    "from tensorflow.keras.wrappers.scikit_learn import KerasClassifier\n",
    "\n",
    "from tensorflow.keras.callbacks import EarlyStopping\n",
    "from tensorflow.keras.models import Sequential\n",
    "from tensorflow.keras.layers import Embedding, LSTM, Dense\n",
    "\n",
    "from cybnews.data import get_data, welf_join_text\n",
    "\n",
    "\n",
    "os.environ['TF_CPP_MIN_LOG_LEVEL'] = '3' "
   ]
  },
  {
   "cell_type": "code",
   "execution_count": 2,
   "id": "c4da8ded",
   "metadata": {},
   "outputs": [
    {
     "name": "stdout",
     "output_type": "stream",
     "text": [
      "Num GPUs Available:  1\n"
     ]
    }
   ],
   "source": [
    "import tensorflow as tf\n",
    "print(\"Num GPUs Available: \", len(tf.config.experimental.list_physical_devices('GPU')))\n",
    "\n",
    "gpus = tf.config.experimental.list_physical_devices('GPU')\n",
    "if gpus:\n",
    "    try:\n",
    "        for gpu in gpus:\n",
    "            tf.config.experimental.set_memory_growth(gpu, True)\n",
    "    except RuntimeError as e:\n",
    "        print(e)"
   ]
  },
  {
   "cell_type": "code",
   "execution_count": 3,
   "id": "ce3fac2b",
   "metadata": {},
   "outputs": [],
   "source": [
    "# WELF\n",
    "#\n",
    "# 0 = real\n",
    "# 1 = fake\n",
    "#\n",
    "DATA_PATH = '/home/tober/devel/lewagon/project/cyb-news/data'\n",
    "data = welf_join_text(get_data(f'{DATA_PATH}/WELFake_Dataset.csv'))[['all_text', 'label']]\n",
    "data = data.sample(frac=0.05, random_state=42)"
   ]
  },
  {
   "cell_type": "code",
   "execution_count": 4,
   "id": "53da12de",
   "metadata": {},
   "outputs": [],
   "source": [
    "def clean(sentence):\n",
    "    sentence = sentence.strip()\n",
    "    sentence = sentence.lower()\n",
    "    sentence = ''.join(char for char in sentence if not char.isdigit())\n",
    "    \n",
    "    for x in string.punctuation:\n",
    "        sentence = sentence.replace(x, '')\n",
    "\n",
    "    for x in ['’', '“', '”', '-', '\"' ]:\n",
    "        sentence = sentence.replace(x, '')\n",
    "    return sentence\n",
    "\n",
    "data[\"all_text_cleaned\"] = data[\"all_text\"].apply(clean)"
   ]
  },
  {
   "cell_type": "code",
   "execution_count": 5,
   "id": "50216ecf",
   "metadata": {},
   "outputs": [],
   "source": [
    "max_len = 5000  # Maximum sequence length"
   ]
  },
  {
   "cell_type": "code",
   "execution_count": 6,
   "id": "d5cf41b5",
   "metadata": {},
   "outputs": [],
   "source": [
    "X = data.all_text_cleaned\n",
    "y = data.label\n",
    "\n",
    "X_train, X_test, y_train, y_test = train_test_split(\n",
    "    X,\n",
    "    y,\n",
    "    test_size=0.3,\n",
    "    random_state=42\n",
    ")\n",
    "\n",
    "tk = Tokenizer()\n",
    "tk.fit_on_texts(X_train)\n",
    "\n",
    "X_train_token = tk.texts_to_sequences(X_train)\n",
    "X_test_token = tk.texts_to_sequences(X_test)\n",
    "\n",
    "X_train_padded = pad_sequences(X_train_token, maxlen=max_len, dtype='float32', padding='pre', value=0)\n",
    "X_test_padded = pad_sequences(X_test_token, maxlen=max_len, dtype='float32', padding='pre', value=0)"
   ]
  },
  {
   "cell_type": "code",
   "execution_count": 7,
   "id": "7e5c51a7",
   "metadata": {},
   "outputs": [
    {
     "data": {
      "text/plain": [
       "56153"
      ]
     },
     "execution_count": 7,
     "metadata": {},
     "output_type": "execute_result"
    }
   ],
   "source": [
    "vocab_size = len(tk.index_word) + 1  # also num of features\n",
    "vocab_size"
   ]
  },
  {
   "cell_type": "code",
   "execution_count": 8,
   "id": "3af07a76",
   "metadata": {},
   "outputs": [],
   "source": [
    "embedding_dim = 16\n",
    "\n",
    "def simple_model(X, y):\n",
    "    model = models.Sequential()\n",
    "    \n",
    "    model.add(\n",
    "        layers.Embedding(\n",
    "            input_dim=vocab_size,\n",
    "            output_dim=embedding_dim,\n",
    "            input_length=max_len,\n",
    "            mask_zero=True\n",
    "        )\n",
    "    )\n",
    "    \n",
    "    model.add(layers.LSTM(embedding_dim))\n",
    "    model.add(layers.Dense(1, activation='sigmoid'))\n",
    "\n",
    "    model.compile(loss='binary_crossentropy', optimizer='adam', metrics=['accuracy'])\n",
    "    model.fit(X, y, verbose=1)\n",
    "\n",
    "    return model\n",
    "\n",
    "#m = simple_model(X_train_padded, y_train)"
   ]
  },
  {
   "cell_type": "code",
   "execution_count": 9,
   "id": "f29e6926",
   "metadata": {},
   "outputs": [],
   "source": [
    "def evaluate_model(model, X, y, batch_size=64):\n",
    "    metrics = model.evaluate(\n",
    "        x=X,\n",
    "        y=y,\n",
    "        batch_size=batch_size,\n",
    "        verbose=1,\n",
    "        callbacks=None,\n",
    "        return_dict=True\n",
    "    )\n",
    "    return metrics\n",
    "\n",
    "#metrics = evaluate_model(m, X_test_padded, y_test)"
   ]
  },
  {
   "cell_type": "code",
   "execution_count": 12,
   "id": "1fd971b9",
   "metadata": {},
   "outputs": [
    {
     "name": "stderr",
     "output_type": "stream",
     "text": [
      "/tmp/ipykernel_7095/129689744.py:30: DeprecationWarning: KerasClassifier is deprecated, use Sci-Keras (https://github.com/adriangb/scikeras) instead. See https://www.adriangb.com/scikeras/stable/migration.html for help migrating.\n",
      "  model = KerasClassifier(\n"
     ]
    },
    {
     "data": {
      "text/plain": [
       "{'batch_size': 8,\n",
       " 'verbose': 1,\n",
       " 'dense_units': [10],\n",
       " 'embedding_dim': [12],\n",
       " 'epochs': [10],\n",
       " 'build_fn': <function __main__.create_model(embedding_dim=50, dense_units=50)>}"
      ]
     },
     "execution_count": 12,
     "metadata": {},
     "output_type": "execute_result"
    }
   ],
   "source": [
    "def create_model(\n",
    "    embedding_dim=50,\n",
    "    dense_units=50,\n",
    "):\n",
    "\n",
    "    model = Sequential()\n",
    "\n",
    "    model.add(\n",
    "        layers.Embedding(\n",
    "            input_dim=vocab_size,\n",
    "            output_dim=embedding_dim,\n",
    "            input_length=max_len,\n",
    "            mask_zero=True\n",
    "        )\n",
    "    )\n",
    "    model.add(LSTM(embedding_dim))\n",
    "    model.add(Dense(dense_units, activation='relu'))\n",
    "#    model.add(layers.Dropout(0.2))\n",
    "    model.add(Dense(1, activation='sigmoid'))       \n",
    "    \n",
    "    model.compile(\n",
    "        loss='binary_crossentropy',\n",
    "        metrics=['accuracy'],\n",
    "        optimizer='adam',\n",
    "    )\n",
    "    print(model.summary())\n",
    "    return model\n",
    "\n",
    "\n",
    "model = KerasClassifier(\n",
    "    build_fn = create_model,\n",
    "    batch_size = 8,\n",
    "    verbose = 1,\n",
    "    dense_units = [10],\n",
    "    embedding_dim = [12],\n",
    "    epochs = [10],\n",
    ")\n",
    "\n",
    "param_grid = {\n",
    "    'epochs': [10],\n",
    "    'dense_units': [12, 24],\n",
    "    'embedding_dim': [15, 30],\n",
    "}\n",
    "\n",
    "model.get_params()"
   ]
  },
  {
   "cell_type": "code",
   "execution_count": 11,
   "id": "7790f2d3",
   "metadata": {},
   "outputs": [],
   "source": [
    "early_stopping = EarlyStopping(monitor='val_loss', patience=3, restore_best_weights=True)\n",
    "\n",
    "grid = GridSearchCV(\n",
    "    estimator=model,\n",
    "    param_grid=param_grid,\n",
    "    n_jobs=28,\n",
    "    cv=3,\n",
    "    verbose=3,\n",
    "    error_score=\"raise\"\n",
    "    )\n",
    "\n",
    "grid_result = grid.fit(X_train_padded, y_train, validation_split=0.2, callbacks=[early_stopping])\n",
    "#grid_result = grid.fit(X_train_padded, y_train, validation_split=0.2)\n",
    "\n",
    "print(\"Best: %f using %s\" % (grid_result.best_score_, grid_result.best_params_))\n",
    "best_model = grid_result.best_estimator_\n",
    "\n",
    "import joblib\n",
    "joblib.dump(model, \"/home/tober/devel/lewagon/project/cyb-news/models/deep_model.pkl\")"
   ]
  }
 ],
 "metadata": {
  "kernelspec": {
   "display_name": "Python 3 (ipykernel)",
   "language": "python",
   "name": "python3"
  },
  "language_info": {
   "codemirror_mode": {
    "name": "ipython",
    "version": 3
   },
   "file_extension": ".py",
   "mimetype": "text/x-python",
   "name": "python",
   "nbconvert_exporter": "python",
   "pygments_lexer": "ipython3",
   "version": "3.10.6"
  },
  "toc": {
   "base_numbering": 1,
   "nav_menu": {},
   "number_sections": true,
   "sideBar": true,
   "skip_h1_title": false,
   "title_cell": "Table of Contents",
   "title_sidebar": "Contents",
   "toc_cell": false,
   "toc_position": {},
   "toc_section_display": true,
   "toc_window_display": false
  }
 },
 "nbformat": 4,
 "nbformat_minor": 5
}
