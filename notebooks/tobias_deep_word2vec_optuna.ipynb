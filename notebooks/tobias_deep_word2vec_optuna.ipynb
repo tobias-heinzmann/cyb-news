{
 "cells": [
  {
   "cell_type": "code",
   "execution_count": 23,
   "id": "bca0d9b8",
   "metadata": {},
   "outputs": [],
   "source": [
    "import os\n",
    "import multiprocessing\n",
    "import string\n",
    "import pandas as pd\n",
    "import numpy as np\n",
    "from matplotlib.pylab import plt\n",
    "import nltk\n",
    "\n",
    "from gensim.models import Word2Vec\n",
    "from tensorflow.keras.preprocessing.sequence import pad_sequences\n",
    "from tensorflow.keras.initializers import GlorotUniform\n",
    "from tensorflow.keras.optimizers import Adam\n",
    "\n",
    "from sklearn.preprocessing import LabelEncoder\n",
    "from sklearn.model_selection import train_test_split, GridSearchCV, cross_val_score\n",
    "from sklearn.pipeline import make_pipeline\n",
    "\n",
    "from tensorflow.keras.preprocessing.text import one_hot, Tokenizer\n",
    "from tensorflow.keras.preprocessing.sequence import pad_sequences\n",
    "\n",
    "#from tensorflow.keras.wrappers.scikit_learn import KerasClassifier\n",
    "\n",
    "from tensorflow.keras.callbacks import EarlyStopping\n",
    "from tensorflow.keras.models import Sequential\n",
    "from tensorflow.keras.layers import Dense, LSTM, GRU, Embedding, Dropout, SpatialDropout1D, SimpleRNN\n",
    "\n",
    "import optuna\n",
    "\n",
    "from cybnews.data import get_data, welf_join_text\n",
    "\n",
    "\n",
    "os.environ['TF_CPP_MIN_LOG_LEVEL'] = '1'\n",
    "os.environ['TF_GPU_ALLOCATOR'] = 'cuda_malloc_async'"
   ]
  },
  {
   "cell_type": "code",
   "execution_count": 24,
   "id": "c4da8ded",
   "metadata": {},
   "outputs": [
    {
     "name": "stdout",
     "output_type": "stream",
     "text": [
      "Num GPUs Available:  1\n"
     ]
    }
   ],
   "source": [
    "import tensorflow as tf\n",
    "print(\"Num GPUs Available: \", len(tf.config.experimental.list_physical_devices('GPU')))\n",
    "\n",
    "gpus = tf.config.experimental.list_physical_devices('GPU')\n",
    "if gpus:\n",
    "    try:\n",
    "        for gpu in gpus:\n",
    "            tf.config.experimental.set_memory_growth(gpu, True)\n",
    "    except RuntimeError as e:\n",
    "        print(e)"
   ]
  },
  {
   "cell_type": "code",
   "execution_count": 25,
   "id": "ce3fac2b",
   "metadata": {},
   "outputs": [],
   "source": [
    "# WELF dataset\n",
    "#\n",
    "#\n",
    "DATA_PATH = '/home/tober/devel/lewagon/project/cyb-news/data'\n",
    "data = welf_join_text(get_data(f'{DATA_PATH}/WELFake_Dataset.csv'))[['all_text', 'label']]\n",
    "\n",
    "#data = data.sample(frac=0.5, random_state=42)"
   ]
  },
  {
   "cell_type": "code",
   "execution_count": 26,
   "id": "53da12de",
   "metadata": {},
   "outputs": [],
   "source": [
    "def clean(sentence):\n",
    "    sentence = sentence.strip()\n",
    "    sentence = sentence.lower()\n",
    "    sentence = ''.join(char for char in sentence if not char.isdigit())\n",
    "    \n",
    "    for x in string.punctuation:\n",
    "        sentence = sentence.replace(x, '')\n",
    "\n",
    "    for x in ['’', '“', '”', '-', '\"' ]:\n",
    "        sentence = sentence.replace(x, '')\n",
    "    return sentence\n",
    "\n",
    "data[\"all_text_cleaned\"] = data[\"all_text\"].apply(clean)"
   ]
  },
  {
   "cell_type": "code",
   "execution_count": 27,
   "id": "3348a075",
   "metadata": {},
   "outputs": [
    {
     "name": "stdout",
     "output_type": "stream",
     "text": [
      "max_seq_length: 3000\n"
     ]
    }
   ],
   "source": [
    "max_seq_length = 3000  # Maximum sequence length\n",
    "print(f'max_seq_length: {max_seq_length}')"
   ]
  },
  {
   "cell_type": "code",
   "execution_count": 28,
   "id": "d5cf41b5",
   "metadata": {},
   "outputs": [],
   "source": [
    "X = data.all_text_cleaned\n",
    "y = data.label\n",
    "\n",
    "X_train, X_test, y_train, y_test = train_test_split(\n",
    "    X,\n",
    "    y,\n",
    "    test_size=0.3,\n",
    "    random_state=42\n",
    ")\n",
    "\n",
    "tokenizer = Tokenizer()\n",
    "tokenizer.fit_on_texts(X_train)\n",
    "\n",
    "X_train_tokenized = tokenizer.texts_to_sequences(X_train)\n",
    "X_test_tokenized = tokenizer.texts_to_sequences(X_test)\n",
    "\n",
    "X_train_padded = pad_sequences(X_train_tokenized, maxlen=max_seq_length, dtype='float32', padding='pre', value=0)\n",
    "X_test_padded = pad_sequences(X_test_tokenized, maxlen=max_seq_length, dtype='float32', padding='pre', value=0)"
   ]
  },
  {
   "cell_type": "code",
   "execution_count": 29,
   "id": "e7823f65",
   "metadata": {},
   "outputs": [
    {
     "name": "stdout",
     "output_type": "stream",
     "text": [
      "(50493, 3000)\n",
      "(50493,)\n"
     ]
    }
   ],
   "source": [
    "print(X_train_padded.shape)\n",
    "print(y_train.shape)"
   ]
  },
  {
   "cell_type": "code",
   "execution_count": 30,
   "id": "7e5c51a7",
   "metadata": {},
   "outputs": [
    {
     "name": "stdout",
     "output_type": "stream",
     "text": [
      "vocab_size: 319480\n"
     ]
    }
   ],
   "source": [
    "vocab_size = len(tokenizer.index_word) + 1  # also num of features\n",
    "print(f'vocab_size: {vocab_size}')"
   ]
  },
  {
   "cell_type": "markdown",
   "id": "98db6641",
   "metadata": {},
   "source": []
  },
  {
   "cell_type": "code",
   "execution_count": 31,
   "id": "265cfea7",
   "metadata": {},
   "outputs": [],
   "source": [
    "vector_size = 200\n",
    "window_size = 5\n",
    "\n",
    "word2vec_model = Word2Vec(sentences=X, vector_size=vector_size, window=window_size, min_count=1, workers=4)\n",
    "\n",
    "embedding_matrix = np.zeros((vocab_size, word2vec_model.vector_size))\n",
    "for word, i in tokenizer.word_index.items():\n",
    "    if word in word2vec_model.wv:\n",
    "        embedding_matrix[i] = word2vec_model.wv[word]"
   ]
  },
  {
   "cell_type": "code",
   "execution_count": 71,
   "id": "cf09b091",
   "metadata": {},
   "outputs": [],
   "source": [
    "from tensorflow.keras.layers import GRU\n",
    "\n",
    "\n",
    "def create_model(trial):\n",
    "    second_gru_layer = trial.suggest_int('gru_layers', 0, 1)\n",
    "    deep_layers = trial.suggest_int(\"deep_layers\", 0, 1)\n",
    "\n",
    "    model = tf.keras.Sequential()\n",
    "    model.add(Embedding(input_dim=vocab_size, output_dim=word2vec_model.vector_size, weights=[embedding_matrix], input_length=max_seq_length, trainable=False))\n",
    "    model.add(\n",
    "        SpatialDropout1D(\n",
    "            trial.suggest_float('spatial_dropout_rate', 0.1, 0.4)\n",
    "        )\n",
    "    )\n",
    "    if bool(second_gru_layer):\n",
    "        model.add(\n",
    "            GRU(\n",
    "                trial.suggest_int('lstm_units', 50, 200),\n",
    "                return_sequences=True\n",
    "            )\n",
    "        )\n",
    "        model.add(\n",
    "            GRU(trial.suggest_int('gru_units', 50, 150))\n",
    "        )\n",
    "    else:\n",
    "        model.add(\n",
    "            GRU(trial.suggest_int('lstm_units', 50, 200))\n",
    "        )\n",
    "\n",
    "    for i in range(deep_layers):\n",
    "        num_hidden = trial.suggest_int(\"num_neurons_hidden{}\".format(i), 4, 128, log=True)\n",
    "        model.add(\n",
    "            tf.keras.layers.Dense(\n",
    "                num_hidden,\n",
    "                activation=\"relu\",\n",
    "                kernel_regularizer=tf.keras.regularizers.l2(trial.suggest_float(\"weight_decay\", 1e-10, 1e-3, log=True)),\n",
    "            )\n",
    "        )\n",
    "    model.add(Dense(1, activation='sigmoid'))\n",
    "    \n",
    "    return model\n",
    "\n",
    "\n",
    "def objective(trial):\n",
    "    #learning_rate = trial.suggest_loguniform('learning_rate', 0.00001, 0.001)\n",
    "    #batch_size = trial.suggest_int('batch_size', 8, 16)\n",
    "    #epochs = trial.suggest_int('epochs', 5, 10)\n",
    "\n",
    "    model = create_model(trial)\n",
    "    optimizer = Adam()#learning_rate=learning_rate)\n",
    "    model.compile(optimizer=optimizer, loss='binary_crossentropy', metrics=['accuracy'])\n",
    "\n",
    "    early_stopping = EarlyStopping(\n",
    "        monitor='val_accuracy',\n",
    "        patience=3,\n",
    "        restore_best_weights=True\n",
    "    )\n",
    "\n",
    "    history = model.fit(\n",
    "        X_train_padded,\n",
    "        y_train,\n",
    "        epochs=5,\n",
    "        batch_size=32,\n",
    "        validation_split=0.2,\n",
    "        verbose=1,\n",
    "        callbacks=[early_stopping]\n",
    "    )\n",
    "    train_accuracy = history.history['accuracy']\n",
    "    val_accuracy = history.history['val_accuracy']\n",
    "    val_loss = min(history.history['val_loss'])  \n",
    "    \n",
    "    return max(val_accuracy)\n"
   ]
  },
  {
   "cell_type": "code",
   "execution_count": 72,
   "id": "474b11c0",
   "metadata": {},
   "outputs": [
    {
     "name": "stderr",
     "output_type": "stream",
     "text": [
      "[I 2024-07-22 18:36:37,585] A new study created in RDB with name: no-name-66927bc1-6dc5-4abb-bf63-048a40a04913\n"
     ]
    },
    {
     "data": {
      "application/vnd.jupyter.widget-view+json": {
       "model_id": "0a51d06dc52d4387875a9dc507f262b3",
       "version_major": 2,
       "version_minor": 0
      },
      "text/plain": [
       "  0%|          | 0/15 [00:00<?, ?it/s]"
      ]
     },
     "metadata": {},
     "output_type": "display_data"
    },
    {
     "name": "stdout",
     "output_type": "stream",
     "text": [
      "Epoch 1/5\n"
     ]
    }
   ],
   "source": [
    "storage = optuna.storages.RDBStorage('sqlite:///optuna_study.db', )\n",
    "study = optuna.create_study(direction='maximize', storage=storage)\n",
    "study.optimize(objective, n_trials=15, show_progress_bar=True)"
   ]
  },
  {
   "cell_type": "code",
   "execution_count": null,
   "id": "2c11f480",
   "metadata": {},
   "outputs": [],
   "source": [
    "\n",
    "#study = optuna.load_study(study_name='cybnews', storage='sqlite:///optuna_study.db')\n",
    "best_trial = study.best_trial\n",
    "\n",
    "print(f\"Best trial value (validation loss): {best_trial.value}\")\n",
    "print(\"Best hyperparameters:\")\n",
    "for key, value in best_trial.params.items():\n",
    "    print(f\"  {key}: {value}\")\n",
    "\n"
   ]
  }
 ],
 "metadata": {
  "kernelspec": {
   "display_name": "Python 3 (ipykernel)",
   "language": "python",
   "name": "python3"
  },
  "language_info": {
   "codemirror_mode": {
    "name": "ipython",
    "version": 3
   },
   "file_extension": ".py",
   "mimetype": "text/x-python",
   "name": "python",
   "nbconvert_exporter": "python",
   "pygments_lexer": "ipython3",
   "version": "3.10.6"
  },
  "toc": {
   "base_numbering": 1,
   "nav_menu": {},
   "number_sections": true,
   "sideBar": true,
   "skip_h1_title": false,
   "title_cell": "Table of Contents",
   "title_sidebar": "Contents",
   "toc_cell": false,
   "toc_position": {},
   "toc_section_display": true,
   "toc_window_display": false
  }
 },
 "nbformat": 4,
 "nbformat_minor": 5
}
